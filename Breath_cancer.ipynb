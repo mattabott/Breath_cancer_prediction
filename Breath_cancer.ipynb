{
  "nbformat": 4,
  "nbformat_minor": 0,
  "metadata": {
    "colab": {
      "name": "Breath_cancer.ipynb",
      "provenance": [],
      "collapsed_sections": [],
      "mount_file_id": "1BUqQR-m4EiyoFe3cloAnOdjsXfbmq0In",
      "authorship_tag": "ABX9TyN8K23rZer+qNOPVdEiKDFA",
      "include_colab_link": true
    },
    "kernelspec": {
      "name": "python3",
      "display_name": "Python 3"
    },
    "language_info": {
      "name": "python"
    },
    "accelerator": "GPU"
  },
  "cells": [
    {
      "cell_type": "markdown",
      "metadata": {
        "id": "view-in-github",
        "colab_type": "text"
      },
      "source": [
        "<a href=\"https://colab.research.google.com/github/mattabott/Breath_cancer_prediction/blob/main/Breath_cancer.ipynb\" target=\"_parent\"><img src=\"https://colab.research.google.com/assets/colab-badge.svg\" alt=\"Open In Colab\"/></a>"
      ]
    },
    {
      "cell_type": "markdown",
      "source": [
        "#CNN and Random Forest on Breath Cancer\n",
        "\n",
        "In this notebook I use a breath cancer dataset available on kaggle (https://www.kaggle.com/uciml/breast-cancer-wisconsin-data).\n",
        "\n",
        "This dataset has 30 usable columns and I'll use them to solve a classification problem: malignant or benign cancer?\n",
        "\n",
        "To do it I'll do some pre-processing of data, cutting id columns, scaling data to use same values and so on.\n",
        "\n",
        "In this notebook I'll try to compare a Random Forest model to CNN model, and use the forst one to improve the second choosing most important features."
      ],
      "metadata": {
        "id": "WG-3XW7JkKxB"
      }
    },
    {
      "cell_type": "code",
      "execution_count": null,
      "metadata": {
        "id": "fOSzNhmm_BUT"
      },
      "outputs": [],
      "source": [
        "import pandas as pd\n",
        "import numpy as np\n",
        "import matplotlib.pyplot as plt\n",
        "from sklearn.model_selection import train_test_split\n",
        "import tensorflow as tf\n",
        "from tensorflow import keras\n",
        "from tensorflow.keras import layers\n",
        "from tensorflow.keras.models import Sequential\n",
        "from tensorflow.keras.layers import Conv1D, GlobalMaxPooling1D, Dense, Flatten\n",
        "from sklearn.preprocessing import MinMaxScaler, StandardScaler\n",
        "import seaborn as sns\n",
        "from sklearn.ensemble import RandomForestClassifier\n",
        "from sklearn.metrics import classification_report, confusion_matrix, accuracy_score"
      ]
    },
    {
      "cell_type": "code",
      "source": [
        "data = pd.read_csv('/content/drive/MyDrive/Colab Notebooks/Test/breast-cancer.csv')\n",
        "\n",
        "data.head()"
      ],
      "metadata": {
        "colab": {
          "base_uri": "https://localhost:8080/",
          "height": 285
        },
        "id": "NpVASQWL_dYZ",
        "outputId": "9d0f8f56-bfcf-45f2-ca3e-3972c2cd0c44"
      },
      "execution_count": null,
      "outputs": [
        {
          "output_type": "execute_result",
          "data": {
            "text/html": [
              "\n",
              "  <div id=\"df-c25a4251-64a9-4135-a0ab-4bcf68961036\">\n",
              "    <div class=\"colab-df-container\">\n",
              "      <div>\n",
              "<style scoped>\n",
              "    .dataframe tbody tr th:only-of-type {\n",
              "        vertical-align: middle;\n",
              "    }\n",
              "\n",
              "    .dataframe tbody tr th {\n",
              "        vertical-align: top;\n",
              "    }\n",
              "\n",
              "    .dataframe thead th {\n",
              "        text-align: right;\n",
              "    }\n",
              "</style>\n",
              "<table border=\"1\" class=\"dataframe\">\n",
              "  <thead>\n",
              "    <tr style=\"text-align: right;\">\n",
              "      <th></th>\n",
              "      <th>id</th>\n",
              "      <th>diagnosis</th>\n",
              "      <th>radius_mean</th>\n",
              "      <th>texture_mean</th>\n",
              "      <th>perimeter_mean</th>\n",
              "      <th>area_mean</th>\n",
              "      <th>smoothness_mean</th>\n",
              "      <th>compactness_mean</th>\n",
              "      <th>concavity_mean</th>\n",
              "      <th>concave points_mean</th>\n",
              "      <th>symmetry_mean</th>\n",
              "      <th>fractal_dimension_mean</th>\n",
              "      <th>radius_se</th>\n",
              "      <th>texture_se</th>\n",
              "      <th>perimeter_se</th>\n",
              "      <th>area_se</th>\n",
              "      <th>smoothness_se</th>\n",
              "      <th>compactness_se</th>\n",
              "      <th>concavity_se</th>\n",
              "      <th>concave points_se</th>\n",
              "      <th>symmetry_se</th>\n",
              "      <th>fractal_dimension_se</th>\n",
              "      <th>radius_worst</th>\n",
              "      <th>texture_worst</th>\n",
              "      <th>perimeter_worst</th>\n",
              "      <th>area_worst</th>\n",
              "      <th>smoothness_worst</th>\n",
              "      <th>compactness_worst</th>\n",
              "      <th>concavity_worst</th>\n",
              "      <th>concave points_worst</th>\n",
              "      <th>symmetry_worst</th>\n",
              "      <th>fractal_dimension_worst</th>\n",
              "    </tr>\n",
              "  </thead>\n",
              "  <tbody>\n",
              "    <tr>\n",
              "      <th>0</th>\n",
              "      <td>842302</td>\n",
              "      <td>M</td>\n",
              "      <td>17.99</td>\n",
              "      <td>10.38</td>\n",
              "      <td>122.80</td>\n",
              "      <td>1001.0</td>\n",
              "      <td>0.11840</td>\n",
              "      <td>0.27760</td>\n",
              "      <td>0.3001</td>\n",
              "      <td>0.14710</td>\n",
              "      <td>0.2419</td>\n",
              "      <td>0.07871</td>\n",
              "      <td>1.0950</td>\n",
              "      <td>0.9053</td>\n",
              "      <td>8.589</td>\n",
              "      <td>153.40</td>\n",
              "      <td>0.006399</td>\n",
              "      <td>0.04904</td>\n",
              "      <td>0.05373</td>\n",
              "      <td>0.01587</td>\n",
              "      <td>0.03003</td>\n",
              "      <td>0.006193</td>\n",
              "      <td>25.38</td>\n",
              "      <td>17.33</td>\n",
              "      <td>184.60</td>\n",
              "      <td>2019.0</td>\n",
              "      <td>0.1622</td>\n",
              "      <td>0.6656</td>\n",
              "      <td>0.7119</td>\n",
              "      <td>0.2654</td>\n",
              "      <td>0.4601</td>\n",
              "      <td>0.11890</td>\n",
              "    </tr>\n",
              "    <tr>\n",
              "      <th>1</th>\n",
              "      <td>842517</td>\n",
              "      <td>M</td>\n",
              "      <td>20.57</td>\n",
              "      <td>17.77</td>\n",
              "      <td>132.90</td>\n",
              "      <td>1326.0</td>\n",
              "      <td>0.08474</td>\n",
              "      <td>0.07864</td>\n",
              "      <td>0.0869</td>\n",
              "      <td>0.07017</td>\n",
              "      <td>0.1812</td>\n",
              "      <td>0.05667</td>\n",
              "      <td>0.5435</td>\n",
              "      <td>0.7339</td>\n",
              "      <td>3.398</td>\n",
              "      <td>74.08</td>\n",
              "      <td>0.005225</td>\n",
              "      <td>0.01308</td>\n",
              "      <td>0.01860</td>\n",
              "      <td>0.01340</td>\n",
              "      <td>0.01389</td>\n",
              "      <td>0.003532</td>\n",
              "      <td>24.99</td>\n",
              "      <td>23.41</td>\n",
              "      <td>158.80</td>\n",
              "      <td>1956.0</td>\n",
              "      <td>0.1238</td>\n",
              "      <td>0.1866</td>\n",
              "      <td>0.2416</td>\n",
              "      <td>0.1860</td>\n",
              "      <td>0.2750</td>\n",
              "      <td>0.08902</td>\n",
              "    </tr>\n",
              "    <tr>\n",
              "      <th>2</th>\n",
              "      <td>84300903</td>\n",
              "      <td>M</td>\n",
              "      <td>19.69</td>\n",
              "      <td>21.25</td>\n",
              "      <td>130.00</td>\n",
              "      <td>1203.0</td>\n",
              "      <td>0.10960</td>\n",
              "      <td>0.15990</td>\n",
              "      <td>0.1974</td>\n",
              "      <td>0.12790</td>\n",
              "      <td>0.2069</td>\n",
              "      <td>0.05999</td>\n",
              "      <td>0.7456</td>\n",
              "      <td>0.7869</td>\n",
              "      <td>4.585</td>\n",
              "      <td>94.03</td>\n",
              "      <td>0.006150</td>\n",
              "      <td>0.04006</td>\n",
              "      <td>0.03832</td>\n",
              "      <td>0.02058</td>\n",
              "      <td>0.02250</td>\n",
              "      <td>0.004571</td>\n",
              "      <td>23.57</td>\n",
              "      <td>25.53</td>\n",
              "      <td>152.50</td>\n",
              "      <td>1709.0</td>\n",
              "      <td>0.1444</td>\n",
              "      <td>0.4245</td>\n",
              "      <td>0.4504</td>\n",
              "      <td>0.2430</td>\n",
              "      <td>0.3613</td>\n",
              "      <td>0.08758</td>\n",
              "    </tr>\n",
              "    <tr>\n",
              "      <th>3</th>\n",
              "      <td>84348301</td>\n",
              "      <td>M</td>\n",
              "      <td>11.42</td>\n",
              "      <td>20.38</td>\n",
              "      <td>77.58</td>\n",
              "      <td>386.1</td>\n",
              "      <td>0.14250</td>\n",
              "      <td>0.28390</td>\n",
              "      <td>0.2414</td>\n",
              "      <td>0.10520</td>\n",
              "      <td>0.2597</td>\n",
              "      <td>0.09744</td>\n",
              "      <td>0.4956</td>\n",
              "      <td>1.1560</td>\n",
              "      <td>3.445</td>\n",
              "      <td>27.23</td>\n",
              "      <td>0.009110</td>\n",
              "      <td>0.07458</td>\n",
              "      <td>0.05661</td>\n",
              "      <td>0.01867</td>\n",
              "      <td>0.05963</td>\n",
              "      <td>0.009208</td>\n",
              "      <td>14.91</td>\n",
              "      <td>26.50</td>\n",
              "      <td>98.87</td>\n",
              "      <td>567.7</td>\n",
              "      <td>0.2098</td>\n",
              "      <td>0.8663</td>\n",
              "      <td>0.6869</td>\n",
              "      <td>0.2575</td>\n",
              "      <td>0.6638</td>\n",
              "      <td>0.17300</td>\n",
              "    </tr>\n",
              "    <tr>\n",
              "      <th>4</th>\n",
              "      <td>84358402</td>\n",
              "      <td>M</td>\n",
              "      <td>20.29</td>\n",
              "      <td>14.34</td>\n",
              "      <td>135.10</td>\n",
              "      <td>1297.0</td>\n",
              "      <td>0.10030</td>\n",
              "      <td>0.13280</td>\n",
              "      <td>0.1980</td>\n",
              "      <td>0.10430</td>\n",
              "      <td>0.1809</td>\n",
              "      <td>0.05883</td>\n",
              "      <td>0.7572</td>\n",
              "      <td>0.7813</td>\n",
              "      <td>5.438</td>\n",
              "      <td>94.44</td>\n",
              "      <td>0.011490</td>\n",
              "      <td>0.02461</td>\n",
              "      <td>0.05688</td>\n",
              "      <td>0.01885</td>\n",
              "      <td>0.01756</td>\n",
              "      <td>0.005115</td>\n",
              "      <td>22.54</td>\n",
              "      <td>16.67</td>\n",
              "      <td>152.20</td>\n",
              "      <td>1575.0</td>\n",
              "      <td>0.1374</td>\n",
              "      <td>0.2050</td>\n",
              "      <td>0.4000</td>\n",
              "      <td>0.1625</td>\n",
              "      <td>0.2364</td>\n",
              "      <td>0.07678</td>\n",
              "    </tr>\n",
              "  </tbody>\n",
              "</table>\n",
              "</div>\n",
              "      <button class=\"colab-df-convert\" onclick=\"convertToInteractive('df-c25a4251-64a9-4135-a0ab-4bcf68961036')\"\n",
              "              title=\"Convert this dataframe to an interactive table.\"\n",
              "              style=\"display:none;\">\n",
              "        \n",
              "  <svg xmlns=\"http://www.w3.org/2000/svg\" height=\"24px\"viewBox=\"0 0 24 24\"\n",
              "       width=\"24px\">\n",
              "    <path d=\"M0 0h24v24H0V0z\" fill=\"none\"/>\n",
              "    <path d=\"M18.56 5.44l.94 2.06.94-2.06 2.06-.94-2.06-.94-.94-2.06-.94 2.06-2.06.94zm-11 1L8.5 8.5l.94-2.06 2.06-.94-2.06-.94L8.5 2.5l-.94 2.06-2.06.94zm10 10l.94 2.06.94-2.06 2.06-.94-2.06-.94-.94-2.06-.94 2.06-2.06.94z\"/><path d=\"M17.41 7.96l-1.37-1.37c-.4-.4-.92-.59-1.43-.59-.52 0-1.04.2-1.43.59L10.3 9.45l-7.72 7.72c-.78.78-.78 2.05 0 2.83L4 21.41c.39.39.9.59 1.41.59.51 0 1.02-.2 1.41-.59l7.78-7.78 2.81-2.81c.8-.78.8-2.07 0-2.86zM5.41 20L4 18.59l7.72-7.72 1.47 1.35L5.41 20z\"/>\n",
              "  </svg>\n",
              "      </button>\n",
              "      \n",
              "  <style>\n",
              "    .colab-df-container {\n",
              "      display:flex;\n",
              "      flex-wrap:wrap;\n",
              "      gap: 12px;\n",
              "    }\n",
              "\n",
              "    .colab-df-convert {\n",
              "      background-color: #E8F0FE;\n",
              "      border: none;\n",
              "      border-radius: 50%;\n",
              "      cursor: pointer;\n",
              "      display: none;\n",
              "      fill: #1967D2;\n",
              "      height: 32px;\n",
              "      padding: 0 0 0 0;\n",
              "      width: 32px;\n",
              "    }\n",
              "\n",
              "    .colab-df-convert:hover {\n",
              "      background-color: #E2EBFA;\n",
              "      box-shadow: 0px 1px 2px rgba(60, 64, 67, 0.3), 0px 1px 3px 1px rgba(60, 64, 67, 0.15);\n",
              "      fill: #174EA6;\n",
              "    }\n",
              "\n",
              "    [theme=dark] .colab-df-convert {\n",
              "      background-color: #3B4455;\n",
              "      fill: #D2E3FC;\n",
              "    }\n",
              "\n",
              "    [theme=dark] .colab-df-convert:hover {\n",
              "      background-color: #434B5C;\n",
              "      box-shadow: 0px 1px 3px 1px rgba(0, 0, 0, 0.15);\n",
              "      filter: drop-shadow(0px 1px 2px rgba(0, 0, 0, 0.3));\n",
              "      fill: #FFFFFF;\n",
              "    }\n",
              "  </style>\n",
              "\n",
              "      <script>\n",
              "        const buttonEl =\n",
              "          document.querySelector('#df-c25a4251-64a9-4135-a0ab-4bcf68961036 button.colab-df-convert');\n",
              "        buttonEl.style.display =\n",
              "          google.colab.kernel.accessAllowed ? 'block' : 'none';\n",
              "\n",
              "        async function convertToInteractive(key) {\n",
              "          const element = document.querySelector('#df-c25a4251-64a9-4135-a0ab-4bcf68961036');\n",
              "          const dataTable =\n",
              "            await google.colab.kernel.invokeFunction('convertToInteractive',\n",
              "                                                     [key], {});\n",
              "          if (!dataTable) return;\n",
              "\n",
              "          const docLinkHtml = 'Like what you see? Visit the ' +\n",
              "            '<a target=\"_blank\" href=https://colab.research.google.com/notebooks/data_table.ipynb>data table notebook</a>'\n",
              "            + ' to learn more about interactive tables.';\n",
              "          element.innerHTML = '';\n",
              "          dataTable['output_type'] = 'display_data';\n",
              "          await google.colab.output.renderOutput(dataTable, element);\n",
              "          const docLink = document.createElement('div');\n",
              "          docLink.innerHTML = docLinkHtml;\n",
              "          element.appendChild(docLink);\n",
              "        }\n",
              "      </script>\n",
              "    </div>\n",
              "  </div>\n",
              "  "
            ],
            "text/plain": [
              "         id diagnosis  ...  symmetry_worst  fractal_dimension_worst\n",
              "0    842302         M  ...          0.4601                  0.11890\n",
              "1    842517         M  ...          0.2750                  0.08902\n",
              "2  84300903         M  ...          0.3613                  0.08758\n",
              "3  84348301         M  ...          0.6638                  0.17300\n",
              "4  84358402         M  ...          0.2364                  0.07678\n",
              "\n",
              "[5 rows x 32 columns]"
            ]
          },
          "metadata": {},
          "execution_count": 179
        }
      ]
    },
    {
      "cell_type": "code",
      "source": [
        "print('There are', data['diagnosis'][data['diagnosis'] == 'M'].count(), 'malignant cancers.')\n",
        "print('There are', data['diagnosis'][data['diagnosis'] == 'B'].count(), 'benign cancers.')"
      ],
      "metadata": {
        "colab": {
          "base_uri": "https://localhost:8080/"
        },
        "id": "2SVSCHiW_jjN",
        "outputId": "f55fe379-6999-40fa-d7a0-8e10a05bb7b0"
      },
      "execution_count": null,
      "outputs": [
        {
          "output_type": "stream",
          "name": "stdout",
          "text": [
            "There are 212 malignant cancers.\n",
            "There are 357 benign cancers.\n"
          ]
        }
      ]
    },
    {
      "cell_type": "code",
      "source": [
        "data = data.drop(columns='id')\n",
        "data.head()"
      ],
      "metadata": {
        "colab": {
          "base_uri": "https://localhost:8080/",
          "height": 285
        },
        "id": "IrLxmSjo2sTY",
        "outputId": "e1095761-720c-4445-856a-2e92bbb5a383"
      },
      "execution_count": null,
      "outputs": [
        {
          "output_type": "execute_result",
          "data": {
            "text/html": [
              "\n",
              "  <div id=\"df-972cb9c9-2c97-4a00-90b8-432854e4aeb5\">\n",
              "    <div class=\"colab-df-container\">\n",
              "      <div>\n",
              "<style scoped>\n",
              "    .dataframe tbody tr th:only-of-type {\n",
              "        vertical-align: middle;\n",
              "    }\n",
              "\n",
              "    .dataframe tbody tr th {\n",
              "        vertical-align: top;\n",
              "    }\n",
              "\n",
              "    .dataframe thead th {\n",
              "        text-align: right;\n",
              "    }\n",
              "</style>\n",
              "<table border=\"1\" class=\"dataframe\">\n",
              "  <thead>\n",
              "    <tr style=\"text-align: right;\">\n",
              "      <th></th>\n",
              "      <th>diagnosis</th>\n",
              "      <th>radius_mean</th>\n",
              "      <th>texture_mean</th>\n",
              "      <th>perimeter_mean</th>\n",
              "      <th>area_mean</th>\n",
              "      <th>smoothness_mean</th>\n",
              "      <th>compactness_mean</th>\n",
              "      <th>concavity_mean</th>\n",
              "      <th>concave points_mean</th>\n",
              "      <th>symmetry_mean</th>\n",
              "      <th>fractal_dimension_mean</th>\n",
              "      <th>radius_se</th>\n",
              "      <th>texture_se</th>\n",
              "      <th>perimeter_se</th>\n",
              "      <th>area_se</th>\n",
              "      <th>smoothness_se</th>\n",
              "      <th>compactness_se</th>\n",
              "      <th>concavity_se</th>\n",
              "      <th>concave points_se</th>\n",
              "      <th>symmetry_se</th>\n",
              "      <th>fractal_dimension_se</th>\n",
              "      <th>radius_worst</th>\n",
              "      <th>texture_worst</th>\n",
              "      <th>perimeter_worst</th>\n",
              "      <th>area_worst</th>\n",
              "      <th>smoothness_worst</th>\n",
              "      <th>compactness_worst</th>\n",
              "      <th>concavity_worst</th>\n",
              "      <th>concave points_worst</th>\n",
              "      <th>symmetry_worst</th>\n",
              "      <th>fractal_dimension_worst</th>\n",
              "    </tr>\n",
              "  </thead>\n",
              "  <tbody>\n",
              "    <tr>\n",
              "      <th>0</th>\n",
              "      <td>M</td>\n",
              "      <td>17.99</td>\n",
              "      <td>10.38</td>\n",
              "      <td>122.80</td>\n",
              "      <td>1001.0</td>\n",
              "      <td>0.11840</td>\n",
              "      <td>0.27760</td>\n",
              "      <td>0.3001</td>\n",
              "      <td>0.14710</td>\n",
              "      <td>0.2419</td>\n",
              "      <td>0.07871</td>\n",
              "      <td>1.0950</td>\n",
              "      <td>0.9053</td>\n",
              "      <td>8.589</td>\n",
              "      <td>153.40</td>\n",
              "      <td>0.006399</td>\n",
              "      <td>0.04904</td>\n",
              "      <td>0.05373</td>\n",
              "      <td>0.01587</td>\n",
              "      <td>0.03003</td>\n",
              "      <td>0.006193</td>\n",
              "      <td>25.38</td>\n",
              "      <td>17.33</td>\n",
              "      <td>184.60</td>\n",
              "      <td>2019.0</td>\n",
              "      <td>0.1622</td>\n",
              "      <td>0.6656</td>\n",
              "      <td>0.7119</td>\n",
              "      <td>0.2654</td>\n",
              "      <td>0.4601</td>\n",
              "      <td>0.11890</td>\n",
              "    </tr>\n",
              "    <tr>\n",
              "      <th>1</th>\n",
              "      <td>M</td>\n",
              "      <td>20.57</td>\n",
              "      <td>17.77</td>\n",
              "      <td>132.90</td>\n",
              "      <td>1326.0</td>\n",
              "      <td>0.08474</td>\n",
              "      <td>0.07864</td>\n",
              "      <td>0.0869</td>\n",
              "      <td>0.07017</td>\n",
              "      <td>0.1812</td>\n",
              "      <td>0.05667</td>\n",
              "      <td>0.5435</td>\n",
              "      <td>0.7339</td>\n",
              "      <td>3.398</td>\n",
              "      <td>74.08</td>\n",
              "      <td>0.005225</td>\n",
              "      <td>0.01308</td>\n",
              "      <td>0.01860</td>\n",
              "      <td>0.01340</td>\n",
              "      <td>0.01389</td>\n",
              "      <td>0.003532</td>\n",
              "      <td>24.99</td>\n",
              "      <td>23.41</td>\n",
              "      <td>158.80</td>\n",
              "      <td>1956.0</td>\n",
              "      <td>0.1238</td>\n",
              "      <td>0.1866</td>\n",
              "      <td>0.2416</td>\n",
              "      <td>0.1860</td>\n",
              "      <td>0.2750</td>\n",
              "      <td>0.08902</td>\n",
              "    </tr>\n",
              "    <tr>\n",
              "      <th>2</th>\n",
              "      <td>M</td>\n",
              "      <td>19.69</td>\n",
              "      <td>21.25</td>\n",
              "      <td>130.00</td>\n",
              "      <td>1203.0</td>\n",
              "      <td>0.10960</td>\n",
              "      <td>0.15990</td>\n",
              "      <td>0.1974</td>\n",
              "      <td>0.12790</td>\n",
              "      <td>0.2069</td>\n",
              "      <td>0.05999</td>\n",
              "      <td>0.7456</td>\n",
              "      <td>0.7869</td>\n",
              "      <td>4.585</td>\n",
              "      <td>94.03</td>\n",
              "      <td>0.006150</td>\n",
              "      <td>0.04006</td>\n",
              "      <td>0.03832</td>\n",
              "      <td>0.02058</td>\n",
              "      <td>0.02250</td>\n",
              "      <td>0.004571</td>\n",
              "      <td>23.57</td>\n",
              "      <td>25.53</td>\n",
              "      <td>152.50</td>\n",
              "      <td>1709.0</td>\n",
              "      <td>0.1444</td>\n",
              "      <td>0.4245</td>\n",
              "      <td>0.4504</td>\n",
              "      <td>0.2430</td>\n",
              "      <td>0.3613</td>\n",
              "      <td>0.08758</td>\n",
              "    </tr>\n",
              "    <tr>\n",
              "      <th>3</th>\n",
              "      <td>M</td>\n",
              "      <td>11.42</td>\n",
              "      <td>20.38</td>\n",
              "      <td>77.58</td>\n",
              "      <td>386.1</td>\n",
              "      <td>0.14250</td>\n",
              "      <td>0.28390</td>\n",
              "      <td>0.2414</td>\n",
              "      <td>0.10520</td>\n",
              "      <td>0.2597</td>\n",
              "      <td>0.09744</td>\n",
              "      <td>0.4956</td>\n",
              "      <td>1.1560</td>\n",
              "      <td>3.445</td>\n",
              "      <td>27.23</td>\n",
              "      <td>0.009110</td>\n",
              "      <td>0.07458</td>\n",
              "      <td>0.05661</td>\n",
              "      <td>0.01867</td>\n",
              "      <td>0.05963</td>\n",
              "      <td>0.009208</td>\n",
              "      <td>14.91</td>\n",
              "      <td>26.50</td>\n",
              "      <td>98.87</td>\n",
              "      <td>567.7</td>\n",
              "      <td>0.2098</td>\n",
              "      <td>0.8663</td>\n",
              "      <td>0.6869</td>\n",
              "      <td>0.2575</td>\n",
              "      <td>0.6638</td>\n",
              "      <td>0.17300</td>\n",
              "    </tr>\n",
              "    <tr>\n",
              "      <th>4</th>\n",
              "      <td>M</td>\n",
              "      <td>20.29</td>\n",
              "      <td>14.34</td>\n",
              "      <td>135.10</td>\n",
              "      <td>1297.0</td>\n",
              "      <td>0.10030</td>\n",
              "      <td>0.13280</td>\n",
              "      <td>0.1980</td>\n",
              "      <td>0.10430</td>\n",
              "      <td>0.1809</td>\n",
              "      <td>0.05883</td>\n",
              "      <td>0.7572</td>\n",
              "      <td>0.7813</td>\n",
              "      <td>5.438</td>\n",
              "      <td>94.44</td>\n",
              "      <td>0.011490</td>\n",
              "      <td>0.02461</td>\n",
              "      <td>0.05688</td>\n",
              "      <td>0.01885</td>\n",
              "      <td>0.01756</td>\n",
              "      <td>0.005115</td>\n",
              "      <td>22.54</td>\n",
              "      <td>16.67</td>\n",
              "      <td>152.20</td>\n",
              "      <td>1575.0</td>\n",
              "      <td>0.1374</td>\n",
              "      <td>0.2050</td>\n",
              "      <td>0.4000</td>\n",
              "      <td>0.1625</td>\n",
              "      <td>0.2364</td>\n",
              "      <td>0.07678</td>\n",
              "    </tr>\n",
              "  </tbody>\n",
              "</table>\n",
              "</div>\n",
              "      <button class=\"colab-df-convert\" onclick=\"convertToInteractive('df-972cb9c9-2c97-4a00-90b8-432854e4aeb5')\"\n",
              "              title=\"Convert this dataframe to an interactive table.\"\n",
              "              style=\"display:none;\">\n",
              "        \n",
              "  <svg xmlns=\"http://www.w3.org/2000/svg\" height=\"24px\"viewBox=\"0 0 24 24\"\n",
              "       width=\"24px\">\n",
              "    <path d=\"M0 0h24v24H0V0z\" fill=\"none\"/>\n",
              "    <path d=\"M18.56 5.44l.94 2.06.94-2.06 2.06-.94-2.06-.94-.94-2.06-.94 2.06-2.06.94zm-11 1L8.5 8.5l.94-2.06 2.06-.94-2.06-.94L8.5 2.5l-.94 2.06-2.06.94zm10 10l.94 2.06.94-2.06 2.06-.94-2.06-.94-.94-2.06-.94 2.06-2.06.94z\"/><path d=\"M17.41 7.96l-1.37-1.37c-.4-.4-.92-.59-1.43-.59-.52 0-1.04.2-1.43.59L10.3 9.45l-7.72 7.72c-.78.78-.78 2.05 0 2.83L4 21.41c.39.39.9.59 1.41.59.51 0 1.02-.2 1.41-.59l7.78-7.78 2.81-2.81c.8-.78.8-2.07 0-2.86zM5.41 20L4 18.59l7.72-7.72 1.47 1.35L5.41 20z\"/>\n",
              "  </svg>\n",
              "      </button>\n",
              "      \n",
              "  <style>\n",
              "    .colab-df-container {\n",
              "      display:flex;\n",
              "      flex-wrap:wrap;\n",
              "      gap: 12px;\n",
              "    }\n",
              "\n",
              "    .colab-df-convert {\n",
              "      background-color: #E8F0FE;\n",
              "      border: none;\n",
              "      border-radius: 50%;\n",
              "      cursor: pointer;\n",
              "      display: none;\n",
              "      fill: #1967D2;\n",
              "      height: 32px;\n",
              "      padding: 0 0 0 0;\n",
              "      width: 32px;\n",
              "    }\n",
              "\n",
              "    .colab-df-convert:hover {\n",
              "      background-color: #E2EBFA;\n",
              "      box-shadow: 0px 1px 2px rgba(60, 64, 67, 0.3), 0px 1px 3px 1px rgba(60, 64, 67, 0.15);\n",
              "      fill: #174EA6;\n",
              "    }\n",
              "\n",
              "    [theme=dark] .colab-df-convert {\n",
              "      background-color: #3B4455;\n",
              "      fill: #D2E3FC;\n",
              "    }\n",
              "\n",
              "    [theme=dark] .colab-df-convert:hover {\n",
              "      background-color: #434B5C;\n",
              "      box-shadow: 0px 1px 3px 1px rgba(0, 0, 0, 0.15);\n",
              "      filter: drop-shadow(0px 1px 2px rgba(0, 0, 0, 0.3));\n",
              "      fill: #FFFFFF;\n",
              "    }\n",
              "  </style>\n",
              "\n",
              "      <script>\n",
              "        const buttonEl =\n",
              "          document.querySelector('#df-972cb9c9-2c97-4a00-90b8-432854e4aeb5 button.colab-df-convert');\n",
              "        buttonEl.style.display =\n",
              "          google.colab.kernel.accessAllowed ? 'block' : 'none';\n",
              "\n",
              "        async function convertToInteractive(key) {\n",
              "          const element = document.querySelector('#df-972cb9c9-2c97-4a00-90b8-432854e4aeb5');\n",
              "          const dataTable =\n",
              "            await google.colab.kernel.invokeFunction('convertToInteractive',\n",
              "                                                     [key], {});\n",
              "          if (!dataTable) return;\n",
              "\n",
              "          const docLinkHtml = 'Like what you see? Visit the ' +\n",
              "            '<a target=\"_blank\" href=https://colab.research.google.com/notebooks/data_table.ipynb>data table notebook</a>'\n",
              "            + ' to learn more about interactive tables.';\n",
              "          element.innerHTML = '';\n",
              "          dataTable['output_type'] = 'display_data';\n",
              "          await google.colab.output.renderOutput(dataTable, element);\n",
              "          const docLink = document.createElement('div');\n",
              "          docLink.innerHTML = docLinkHtml;\n",
              "          element.appendChild(docLink);\n",
              "        }\n",
              "      </script>\n",
              "    </div>\n",
              "  </div>\n",
              "  "
            ],
            "text/plain": [
              "  diagnosis  radius_mean  ...  symmetry_worst  fractal_dimension_worst\n",
              "0         M        17.99  ...          0.4601                  0.11890\n",
              "1         M        20.57  ...          0.2750                  0.08902\n",
              "2         M        19.69  ...          0.3613                  0.08758\n",
              "3         M        11.42  ...          0.6638                  0.17300\n",
              "4         M        20.29  ...          0.2364                  0.07678\n",
              "\n",
              "[5 rows x 31 columns]"
            ]
          },
          "metadata": {},
          "execution_count": 181
        }
      ]
    },
    {
      "cell_type": "code",
      "source": [
        "data.info()"
      ],
      "metadata": {
        "colab": {
          "base_uri": "https://localhost:8080/"
        },
        "id": "T0BW3fYa35CS",
        "outputId": "0589b174-1e71-4f22-cd5e-9a777a610333"
      },
      "execution_count": null,
      "outputs": [
        {
          "output_type": "stream",
          "name": "stdout",
          "text": [
            "<class 'pandas.core.frame.DataFrame'>\n",
            "RangeIndex: 569 entries, 0 to 568\n",
            "Data columns (total 31 columns):\n",
            " #   Column                   Non-Null Count  Dtype  \n",
            "---  ------                   --------------  -----  \n",
            " 0   diagnosis                569 non-null    object \n",
            " 1   radius_mean              569 non-null    float64\n",
            " 2   texture_mean             569 non-null    float64\n",
            " 3   perimeter_mean           569 non-null    float64\n",
            " 4   area_mean                569 non-null    float64\n",
            " 5   smoothness_mean          569 non-null    float64\n",
            " 6   compactness_mean         569 non-null    float64\n",
            " 7   concavity_mean           569 non-null    float64\n",
            " 8   concave points_mean      569 non-null    float64\n",
            " 9   symmetry_mean            569 non-null    float64\n",
            " 10  fractal_dimension_mean   569 non-null    float64\n",
            " 11  radius_se                569 non-null    float64\n",
            " 12  texture_se               569 non-null    float64\n",
            " 13  perimeter_se             569 non-null    float64\n",
            " 14  area_se                  569 non-null    float64\n",
            " 15  smoothness_se            569 non-null    float64\n",
            " 16  compactness_se           569 non-null    float64\n",
            " 17  concavity_se             569 non-null    float64\n",
            " 18  concave points_se        569 non-null    float64\n",
            " 19  symmetry_se              569 non-null    float64\n",
            " 20  fractal_dimension_se     569 non-null    float64\n",
            " 21  radius_worst             569 non-null    float64\n",
            " 22  texture_worst            569 non-null    float64\n",
            " 23  perimeter_worst          569 non-null    float64\n",
            " 24  area_worst               569 non-null    float64\n",
            " 25  smoothness_worst         569 non-null    float64\n",
            " 26  compactness_worst        569 non-null    float64\n",
            " 27  concavity_worst          569 non-null    float64\n",
            " 28  concave points_worst     569 non-null    float64\n",
            " 29  symmetry_worst           569 non-null    float64\n",
            " 30  fractal_dimension_worst  569 non-null    float64\n",
            "dtypes: float64(30), object(1)\n",
            "memory usage: 137.9+ KB\n"
          ]
        }
      ]
    },
    {
      "cell_type": "code",
      "source": [
        "data['diagnosis'].replace(to_replace='M', value=0, inplace=True)\n",
        "data['diagnosis'].replace(to_replace='B', value=1, inplace=True)\n",
        "data['diagnosis'] = data.diagnosis.astype(float)\n",
        "data.info()"
      ],
      "metadata": {
        "colab": {
          "base_uri": "https://localhost:8080/"
        },
        "id": "DNFoj6EW3_Sf",
        "outputId": "5c99c5d7-aac8-4767-b0a4-4a0b34185743"
      },
      "execution_count": null,
      "outputs": [
        {
          "output_type": "stream",
          "name": "stdout",
          "text": [
            "<class 'pandas.core.frame.DataFrame'>\n",
            "RangeIndex: 569 entries, 0 to 568\n",
            "Data columns (total 31 columns):\n",
            " #   Column                   Non-Null Count  Dtype  \n",
            "---  ------                   --------------  -----  \n",
            " 0   diagnosis                569 non-null    float64\n",
            " 1   radius_mean              569 non-null    float64\n",
            " 2   texture_mean             569 non-null    float64\n",
            " 3   perimeter_mean           569 non-null    float64\n",
            " 4   area_mean                569 non-null    float64\n",
            " 5   smoothness_mean          569 non-null    float64\n",
            " 6   compactness_mean         569 non-null    float64\n",
            " 7   concavity_mean           569 non-null    float64\n",
            " 8   concave points_mean      569 non-null    float64\n",
            " 9   symmetry_mean            569 non-null    float64\n",
            " 10  fractal_dimension_mean   569 non-null    float64\n",
            " 11  radius_se                569 non-null    float64\n",
            " 12  texture_se               569 non-null    float64\n",
            " 13  perimeter_se             569 non-null    float64\n",
            " 14  area_se                  569 non-null    float64\n",
            " 15  smoothness_se            569 non-null    float64\n",
            " 16  compactness_se           569 non-null    float64\n",
            " 17  concavity_se             569 non-null    float64\n",
            " 18  concave points_se        569 non-null    float64\n",
            " 19  symmetry_se              569 non-null    float64\n",
            " 20  fractal_dimension_se     569 non-null    float64\n",
            " 21  radius_worst             569 non-null    float64\n",
            " 22  texture_worst            569 non-null    float64\n",
            " 23  perimeter_worst          569 non-null    float64\n",
            " 24  area_worst               569 non-null    float64\n",
            " 25  smoothness_worst         569 non-null    float64\n",
            " 26  compactness_worst        569 non-null    float64\n",
            " 27  concavity_worst          569 non-null    float64\n",
            " 28  concave points_worst     569 non-null    float64\n",
            " 29  symmetry_worst           569 non-null    float64\n",
            " 30  fractal_dimension_worst  569 non-null    float64\n",
            "dtypes: float64(31)\n",
            "memory usage: 137.9 KB\n"
          ]
        }
      ]
    },
    {
      "cell_type": "code",
      "source": [
        "df = data.values"
      ],
      "metadata": {
        "id": "HXOyJmYs91o1"
      },
      "execution_count": null,
      "outputs": []
    },
    {
      "cell_type": "code",
      "source": [
        "x = df[:,1:]\n",
        "y = df[:,:1]\n",
        "\n",
        "print(x[0])\n",
        "print(y[0])"
      ],
      "metadata": {
        "colab": {
          "base_uri": "https://localhost:8080/"
        },
        "id": "zWQcDsG399m_",
        "outputId": "c65ce9ab-4930-45d6-a1f6-b3e140ee272f"
      },
      "execution_count": null,
      "outputs": [
        {
          "output_type": "stream",
          "name": "stdout",
          "text": [
            "[1.799e+01 1.038e+01 1.228e+02 1.001e+03 1.184e-01 2.776e-01 3.001e-01\n",
            " 1.471e-01 2.419e-01 7.871e-02 1.095e+00 9.053e-01 8.589e+00 1.534e+02\n",
            " 6.399e-03 4.904e-02 5.373e-02 1.587e-02 3.003e-02 6.193e-03 2.538e+01\n",
            " 1.733e+01 1.846e+02 2.019e+03 1.622e-01 6.656e-01 7.119e-01 2.654e-01\n",
            " 4.601e-01 1.189e-01]\n",
            "[0.]\n"
          ]
        }
      ]
    },
    {
      "cell_type": "code",
      "source": [
        "x_train, x_test, y_train, y_test = train_test_split(x, y, test_size=0.3, random_state=7)"
      ],
      "metadata": {
        "id": "ssF8IkLf65V5"
      },
      "execution_count": null,
      "outputs": []
    },
    {
      "cell_type": "code",
      "source": [
        "print(x_train.shape)\n",
        "print(y_train.shape)\n",
        "print(x_test.shape)\n",
        "print(y_test.shape)"
      ],
      "metadata": {
        "colab": {
          "base_uri": "https://localhost:8080/"
        },
        "id": "T2bqeaNz7rEZ",
        "outputId": "5f3c0532-a256-4307-83a1-ff6376d73b0b"
      },
      "execution_count": null,
      "outputs": [
        {
          "output_type": "stream",
          "name": "stdout",
          "text": [
            "(398, 30)\n",
            "(398, 1)\n",
            "(171, 30)\n",
            "(171, 1)\n"
          ]
        }
      ]
    },
    {
      "cell_type": "code",
      "source": [
        "standard = StandardScaler()\n",
        "\n",
        "x_train_standard = standard.fit_transform(x_train)\n",
        "x_test_standard = standard.fit_transform(x_test)"
      ],
      "metadata": {
        "id": "hdJjjnufLcyD"
      },
      "execution_count": null,
      "outputs": []
    },
    {
      "cell_type": "code",
      "source": [
        "print(x_train_standard[0])"
      ],
      "metadata": {
        "id": "gD0G3HltMa7q",
        "outputId": "696c6518-2ba8-48b4-cd85-e9b16f6357d3",
        "colab": {
          "base_uri": "https://localhost:8080/"
        }
      },
      "execution_count": null,
      "outputs": [
        {
          "output_type": "stream",
          "name": "stdout",
          "text": [
            "[-0.29511208  2.01884665 -0.32552512 -0.36299309 -0.69267412 -0.70769241\n",
            " -0.76555668 -0.45426852 -0.68981253 -0.69294441 -0.60878471  0.69962354\n",
            " -0.64746993 -0.48342021 -0.69942732 -0.66731332 -0.54874988 -0.43614725\n",
            " -0.39940875 -0.90934843 -0.42630297  1.8589038  -0.47274951 -0.46902632\n",
            " -1.12812003 -0.7749586  -0.84599508 -0.58289962 -0.74976247 -1.10350609]\n"
          ]
        }
      ]
    },
    {
      "cell_type": "markdown",
      "source": [
        "##Random Forest\n",
        "\n",
        "Try the first model. Random forest is very fast to train.\n",
        "I use 50 estimators because is a good number (in this case) for time and results. No improve with more estimators."
      ],
      "metadata": {
        "id": "Kv81xGahmmq3"
      }
    },
    {
      "cell_type": "code",
      "source": [
        "classifier = RandomForestClassifier(\n",
        "    n_estimators=50,\n",
        "    random_state=7\n",
        ")\n",
        "\n",
        "classifier.fit(x_train_standard, y_train)\n",
        "\n",
        "y_pred = classifier.predict(x_test_standard)"
      ],
      "metadata": {
        "colab": {
          "base_uri": "https://localhost:8080/"
        },
        "id": "Mm3ALyJV-oaH",
        "outputId": "4c5c60a5-dd38-4d98-86d1-e7eac712533f"
      },
      "execution_count": null,
      "outputs": [
        {
          "output_type": "stream",
          "name": "stderr",
          "text": [
            "/usr/local/lib/python3.7/dist-packages/ipykernel_launcher.py:6: DataConversionWarning: A column-vector y was passed when a 1d array was expected. Please change the shape of y to (n_samples,), for example using ravel().\n",
            "  \n"
          ]
        }
      ]
    },
    {
      "cell_type": "code",
      "source": [
        "print(confusion_matrix(y_test, y_pred))\n",
        "print('-----------')\n",
        "print(classification_report(y_test, y_pred))\n",
        "print('-----------')\n",
        "print(accuracy_score(y_test, y_pred))"
      ],
      "metadata": {
        "colab": {
          "base_uri": "https://localhost:8080/"
        },
        "id": "3U8bdzKW--p4",
        "outputId": "c46f8a5b-c3fd-4823-9fc8-7d475e3dacc1"
      },
      "execution_count": null,
      "outputs": [
        {
          "output_type": "stream",
          "name": "stdout",
          "text": [
            "[[ 53   2]\n",
            " [  7 109]]\n",
            "-----------\n",
            "              precision    recall  f1-score   support\n",
            "\n",
            "         0.0       0.88      0.96      0.92        55\n",
            "         1.0       0.98      0.94      0.96       116\n",
            "\n",
            "    accuracy                           0.95       171\n",
            "   macro avg       0.93      0.95      0.94       171\n",
            "weighted avg       0.95      0.95      0.95       171\n",
            "\n",
            "-----------\n",
            "0.9473684210526315\n"
          ]
        }
      ]
    },
    {
      "cell_type": "code",
      "source": [
        "plt.figure(figsize=(16,16))\n",
        "\n",
        "sns.heatmap(confusion_matrix(y_test, y_pred), annot=True)\n",
        "\n",
        "plt.show()"
      ],
      "metadata": {
        "colab": {
          "base_uri": "https://localhost:8080/",
          "height": 918
        },
        "id": "ILjWut14GsFi",
        "outputId": "1160e732-9eef-43ee-ed1e-ffb62bd90a18"
      },
      "execution_count": null,
      "outputs": [
        {
          "output_type": "display_data",
          "data": {
            "image/png": "[encoded data removed]",
            "text/plain": [
              "<Figure size 1152x1152 with 2 Axes>"
            ]
          },
          "metadata": {
            "needs_background": "light"
          }
        }
      ]
    },
    {
      "cell_type": "markdown",
      "source": [
        "Good results! But let's see which features are very important for training, and try to use only most important to train another model."
      ],
      "metadata": {
        "id": "K6f6GQ8enrOR"
      }
    },
    {
      "cell_type": "code",
      "source": [
        "feature_list = data[1:]\n",
        "\n",
        "importances = list(classifier.feature_importances_)\n",
        "\n",
        "feature_importances = [\n",
        "                       (feature, round(importance, 2)) for feature, importance in zip(feature_list, importances)\n",
        "                      ]\n",
        "\n",
        "feature_importances = sorted(feature_importances, key = lambda x: x[1], reverse = True)\n",
        "\n",
        "[print('Variable: {:20} Importance: {}'.format(*pair))for pair in feature_importances];"
      ],
      "metadata": {
        "colab": {
          "base_uri": "https://localhost:8080/"
        },
        "id": "iDOkKU3W_YV8",
        "outputId": "4f6c5d6f-25af-4f3b-c11c-4ab387dfddb6"
      },
      "execution_count": null,
      "outputs": [
        {
          "output_type": "stream",
          "name": "stdout",
          "text": [
            "Variable: fractal_dimension_se Importance: 0.15\n",
            "Variable: compactness_worst    Importance: 0.1\n",
            "Variable: texture_mean         Importance: 0.08\n",
            "Variable: concavity_mean       Importance: 0.08\n",
            "Variable: texture_worst        Importance: 0.08\n",
            "Variable: perimeter_worst      Importance: 0.08\n",
            "Variable: concavity_worst      Importance: 0.08\n",
            "Variable: perimeter_mean       Importance: 0.06\n",
            "Variable: compactness_mean     Importance: 0.06\n",
            "Variable: diagnosis            Importance: 0.03\n",
            "Variable: fractal_dimension_mean Importance: 0.02\n",
            "Variable: perimeter_se         Importance: 0.02\n",
            "Variable: compactness_se       Importance: 0.02\n",
            "Variable: radius_worst         Importance: 0.02\n",
            "Variable: area_worst           Importance: 0.02\n",
            "Variable: radius_mean          Importance: 0.01\n",
            "Variable: area_mean            Importance: 0.01\n",
            "Variable: smoothness_mean      Importance: 0.01\n",
            "Variable: texture_se           Importance: 0.01\n",
            "Variable: area_se              Importance: 0.01\n",
            "Variable: symmetry_se          Importance: 0.01\n",
            "Variable: smoothness_worst     Importance: 0.01\n",
            "Variable: concave points_worst Importance: 0.01\n",
            "Variable: symmetry_worst       Importance: 0.01\n",
            "Variable: concave points_mean  Importance: 0.0\n",
            "Variable: symmetry_mean        Importance: 0.0\n",
            "Variable: radius_se            Importance: 0.0\n",
            "Variable: smoothness_se        Importance: 0.0\n",
            "Variable: concavity_se         Importance: 0.0\n",
            "Variable: concave points_se    Importance: 0.0\n"
          ]
        }
      ]
    },
    {
      "cell_type": "markdown",
      "source": [
        "##CNN model\n",
        "\n",
        "In this CNN model I use 2 Convolutive layers (1D), one flatten to use 4 Dense layers. \n",
        "\n",
        "I tryed different configurations of activation functions in different layers, 'swish' function resulted best in this model.\n",
        "\n",
        "Sigmoid one on last layer performed so good, but with more than 30 epochs model overfitted."
      ],
      "metadata": {
        "id": "JpJQVhnkoECj"
      }
    },
    {
      "cell_type": "code",
      "source": [
        "def my_model(shape):\n",
        "  model = Sequential()\n",
        "\n",
        "  model.add(Conv1D(32, 3, activation='swish', padding='valid', strides=1, input_shape=shape))\n",
        "  model.add(Conv1D(64, 3, activation='swish'))\n",
        "  model.add(Flatten())\n",
        "\n",
        "  model.add(Dense(128, activation='swish'))\n",
        "  model.add(Dense(256, activation='swish'))\n",
        "  model.add(Dense(512, activation='swish'))\n",
        "  model.add(Dense(1, activation='swish'))\n",
        "\n",
        "  return model"
      ],
      "metadata": {
        "id": "HbM7hRa9-ket"
      },
      "execution_count": null,
      "outputs": []
    },
    {
      "cell_type": "code",
      "source": [
        "model = my_model((30,1))\n",
        "\n",
        "model.compile(\n",
        "    loss='binary_crossentropy',\n",
        "    optimizer='adam', \n",
        "    metrics='accuracy'\n",
        "    )\n",
        "\n",
        "model.summary()"
      ],
      "metadata": {
        "colab": {
          "base_uri": "https://localhost:8080/"
        },
        "id": "mCmxXV2UESV1",
        "outputId": "534e2be6-f551-4d1a-ba5f-a89901b6e168"
      },
      "execution_count": null,
      "outputs": [
        {
          "output_type": "stream",
          "name": "stdout",
          "text": [
            "Model: \"sequential_12\"\n",
            "_________________________________________________________________\n",
            " Layer (type)                Output Shape              Param #   \n",
            "=================================================================\n",
            " conv1d_24 (Conv1D)          (None, 28, 32)            128       \n",
            "                                                                 \n",
            " conv1d_25 (Conv1D)          (None, 26, 64)            6208      \n",
            "                                                                 \n",
            " flatten_12 (Flatten)        (None, 1664)              0         \n",
            "                                                                 \n",
            " dense_48 (Dense)            (None, 128)               213120    \n",
            "                                                                 \n",
            " dense_49 (Dense)            (None, 256)               33024     \n",
            "                                                                 \n",
            " dense_50 (Dense)            (None, 512)               131584    \n",
            "                                                                 \n",
            " dense_51 (Dense)            (None, 1)                 513       \n",
            "                                                                 \n",
            "=================================================================\n",
            "Total params: 384,577\n",
            "Trainable params: 384,577\n",
            "Non-trainable params: 0\n",
            "_________________________________________________________________\n"
          ]
        }
      ]
    },
    {
      "cell_type": "code",
      "source": [
        "tf.keras.utils.plot_model(model)"
      ],
      "metadata": {
        "colab": {
          "base_uri": "https://localhost:8080/",
          "height": 758
        },
        "id": "MuZp6v7OGa6r",
        "outputId": "80333de9-c245-42bb-bb70-85ff1762b224"
      },
      "execution_count": null,
      "outputs": [
        {
          "output_type": "execute_result",
          "data": {
            "image/png": "[encoded data removed]",
            "text/plain": [
              "<IPython.core.display.Image object>"
            ]
          },
          "metadata": {},
          "execution_count": 195
        }
      ]
    },
    {
      "cell_type": "code",
      "source": [
        "history = model.fit(\n",
        "    x_train_standard, \n",
        "    y_train, \n",
        "    batch_size=64, \n",
        "    epochs=50,\n",
        "    validation_data=(x_test_standard, y_test)\n",
        "    )"
      ],
      "metadata": {
        "colab": {
          "base_uri": "https://localhost:8080/"
        },
        "id": "4fehgDG4Eirx",
        "outputId": "e71b0f8a-4155-411b-f8e9-bb0e2b95f25e"
      },
      "execution_count": null,
      "outputs": [
        {
          "output_type": "stream",
          "name": "stdout",
          "text": [
            "Epoch 1/50\n",
            "7/7 [==============================] - 1s 53ms/step - loss: 2.5097 - accuracy: 0.3945 - val_loss: 1.3633 - val_accuracy: 0.3567\n",
            "Epoch 2/50\n",
            "7/7 [==============================] - 0s 12ms/step - loss: 0.8230 - accuracy: 0.6583 - val_loss: 0.6287 - val_accuracy: 0.8421\n",
            "Epoch 3/50\n",
            "7/7 [==============================] - 0s 10ms/step - loss: 0.3736 - accuracy: 0.9196 - val_loss: 0.4420 - val_accuracy: 0.9415\n",
            "Epoch 4/50\n",
            "7/7 [==============================] - 0s 10ms/step - loss: 0.1699 - accuracy: 0.9523 - val_loss: 0.3411 - val_accuracy: 0.9474\n",
            "Epoch 5/50\n",
            "7/7 [==============================] - 0s 11ms/step - loss: 0.1926 - accuracy: 0.9573 - val_loss: 0.4383 - val_accuracy: 0.9474\n",
            "Epoch 6/50\n",
            "7/7 [==============================] - 0s 13ms/step - loss: 0.3548 - accuracy: 0.9372 - val_loss: 0.6972 - val_accuracy: 0.9240\n",
            "Epoch 7/50\n",
            "7/7 [==============================] - 0s 10ms/step - loss: 0.3585 - accuracy: 0.9397 - val_loss: 0.5550 - val_accuracy: 0.9064\n",
            "Epoch 8/50\n",
            "7/7 [==============================] - 0s 12ms/step - loss: 0.3433 - accuracy: 0.9447 - val_loss: 0.4734 - val_accuracy: 0.9123\n",
            "Epoch 9/50\n",
            "7/7 [==============================] - 0s 11ms/step - loss: 0.3038 - accuracy: 0.9523 - val_loss: 0.3186 - val_accuracy: 0.9181\n",
            "Epoch 10/50\n",
            "7/7 [==============================] - 0s 13ms/step - loss: 0.1929 - accuracy: 0.9623 - val_loss: 0.2024 - val_accuracy: 0.9298\n",
            "Epoch 11/50\n",
            "7/7 [==============================] - 0s 13ms/step - loss: 0.1409 - accuracy: 0.9648 - val_loss: 0.1785 - val_accuracy: 0.9357\n",
            "Epoch 12/50\n",
            "7/7 [==============================] - 0s 10ms/step - loss: 0.1295 - accuracy: 0.9673 - val_loss: 0.1763 - val_accuracy: 0.9532\n",
            "Epoch 13/50\n",
            "7/7 [==============================] - 0s 10ms/step - loss: 0.1231 - accuracy: 0.9724 - val_loss: 0.1620 - val_accuracy: 0.9591\n",
            "Epoch 14/50\n",
            "7/7 [==============================] - 0s 10ms/step - loss: 0.1198 - accuracy: 0.9774 - val_loss: 0.1552 - val_accuracy: 0.9649\n",
            "Epoch 15/50\n",
            "7/7 [==============================] - 0s 12ms/step - loss: 0.1196 - accuracy: 0.9749 - val_loss: 0.1524 - val_accuracy: 0.9649\n",
            "Epoch 16/50\n",
            "7/7 [==============================] - 0s 12ms/step - loss: 0.1182 - accuracy: 0.9774 - val_loss: 0.1516 - val_accuracy: 0.9649\n",
            "Epoch 17/50\n",
            "7/7 [==============================] - 0s 10ms/step - loss: 0.1167 - accuracy: 0.9799 - val_loss: 0.1530 - val_accuracy: 0.9649\n",
            "Epoch 18/50\n",
            "7/7 [==============================] - 0s 10ms/step - loss: 0.1161 - accuracy: 0.9799 - val_loss: 0.1532 - val_accuracy: 0.9649\n",
            "Epoch 19/50\n",
            "7/7 [==============================] - 0s 10ms/step - loss: 0.1152 - accuracy: 0.9799 - val_loss: 0.1522 - val_accuracy: 0.9649\n",
            "Epoch 20/50\n",
            "7/7 [==============================] - 0s 10ms/step - loss: 0.1141 - accuracy: 0.9799 - val_loss: 0.1484 - val_accuracy: 0.9649\n",
            "Epoch 21/50\n",
            "7/7 [==============================] - 0s 12ms/step - loss: 0.1132 - accuracy: 0.9799 - val_loss: 0.1458 - val_accuracy: 0.9649\n",
            "Epoch 22/50\n",
            "7/7 [==============================] - 0s 10ms/step - loss: 0.1125 - accuracy: 0.9799 - val_loss: 0.1463 - val_accuracy: 0.9649\n",
            "Epoch 23/50\n",
            "7/7 [==============================] - 0s 11ms/step - loss: 0.1118 - accuracy: 0.9799 - val_loss: 0.1479 - val_accuracy: 0.9649\n",
            "Epoch 24/50\n",
            "7/7 [==============================] - 0s 11ms/step - loss: 0.1111 - accuracy: 0.9774 - val_loss: 0.1500 - val_accuracy: 0.9649\n",
            "Epoch 25/50\n",
            "7/7 [==============================] - 0s 11ms/step - loss: 0.1107 - accuracy: 0.9799 - val_loss: 0.1433 - val_accuracy: 0.9708\n",
            "Epoch 26/50\n",
            "7/7 [==============================] - 0s 10ms/step - loss: 0.1109 - accuracy: 0.9824 - val_loss: 0.1445 - val_accuracy: 0.9708\n",
            "Epoch 27/50\n",
            "7/7 [==============================] - 0s 13ms/step - loss: 0.1089 - accuracy: 0.9799 - val_loss: 0.1488 - val_accuracy: 0.9649\n",
            "Epoch 28/50\n",
            "7/7 [==============================] - 0s 11ms/step - loss: 0.1098 - accuracy: 0.9799 - val_loss: 0.1485 - val_accuracy: 0.9708\n",
            "Epoch 29/50\n",
            "7/7 [==============================] - 0s 11ms/step - loss: 0.1082 - accuracy: 0.9799 - val_loss: 0.1433 - val_accuracy: 0.9708\n",
            "Epoch 30/50\n",
            "7/7 [==============================] - 0s 11ms/step - loss: 0.1075 - accuracy: 0.9799 - val_loss: 0.1419 - val_accuracy: 0.9708\n",
            "Epoch 31/50\n",
            "7/7 [==============================] - 0s 13ms/step - loss: 0.1077 - accuracy: 0.9824 - val_loss: 0.1410 - val_accuracy: 0.9708\n",
            "Epoch 32/50\n",
            "7/7 [==============================] - 0s 13ms/step - loss: 0.1073 - accuracy: 0.9824 - val_loss: 0.1444 - val_accuracy: 0.9708\n",
            "Epoch 33/50\n",
            "7/7 [==============================] - 0s 11ms/step - loss: 0.1067 - accuracy: 0.9774 - val_loss: 0.1436 - val_accuracy: 0.9708\n",
            "Epoch 34/50\n",
            "7/7 [==============================] - 0s 10ms/step - loss: 0.1073 - accuracy: 0.9824 - val_loss: 0.1382 - val_accuracy: 0.9708\n",
            "Epoch 35/50\n",
            "7/7 [==============================] - 0s 13ms/step - loss: 0.1059 - accuracy: 0.9849 - val_loss: 0.1388 - val_accuracy: 0.9708\n",
            "Epoch 36/50\n",
            "7/7 [==============================] - 0s 12ms/step - loss: 0.1060 - accuracy: 0.9849 - val_loss: 0.1418 - val_accuracy: 0.9649\n",
            "Epoch 37/50\n",
            "7/7 [==============================] - 0s 12ms/step - loss: 0.1060 - accuracy: 0.9874 - val_loss: 0.1419 - val_accuracy: 0.9649\n",
            "Epoch 38/50\n",
            "7/7 [==============================] - 0s 13ms/step - loss: 0.1048 - accuracy: 0.9874 - val_loss: 0.1361 - val_accuracy: 0.9766\n",
            "Epoch 39/50\n",
            "7/7 [==============================] - 0s 10ms/step - loss: 0.1073 - accuracy: 0.9874 - val_loss: 0.1409 - val_accuracy: 0.9649\n",
            "Epoch 40/50\n",
            "7/7 [==============================] - 0s 15ms/step - loss: 0.1082 - accuracy: 0.9824 - val_loss: 0.1684 - val_accuracy: 0.9532\n",
            "Epoch 41/50\n",
            "7/7 [==============================] - 0s 11ms/step - loss: 0.1101 - accuracy: 0.9774 - val_loss: 0.1508 - val_accuracy: 0.9532\n",
            "Epoch 42/50\n",
            "7/7 [==============================] - 0s 12ms/step - loss: 0.1052 - accuracy: 0.9799 - val_loss: 0.0844 - val_accuracy: 0.9708\n",
            "Epoch 43/50\n",
            "7/7 [==============================] - 0s 12ms/step - loss: 0.1042 - accuracy: 0.9824 - val_loss: 0.0604 - val_accuracy: 0.9825\n",
            "Epoch 44/50\n",
            "7/7 [==============================] - 0s 11ms/step - loss: 0.1050 - accuracy: 0.9899 - val_loss: 0.0628 - val_accuracy: 0.9708\n",
            "Epoch 45/50\n",
            "7/7 [==============================] - 0s 14ms/step - loss: 0.1031 - accuracy: 0.9849 - val_loss: 0.0649 - val_accuracy: 0.9591\n",
            "Epoch 46/50\n",
            "7/7 [==============================] - 0s 12ms/step - loss: 0.1028 - accuracy: 0.9849 - val_loss: 0.0599 - val_accuracy: 0.9649\n",
            "Epoch 47/50\n",
            "7/7 [==============================] - 0s 11ms/step - loss: 0.1022 - accuracy: 0.9849 - val_loss: 0.0550 - val_accuracy: 0.9708\n",
            "Epoch 48/50\n",
            "7/7 [==============================] - 0s 12ms/step - loss: 0.1021 - accuracy: 0.9849 - val_loss: 0.0516 - val_accuracy: 0.9708\n",
            "Epoch 49/50\n",
            "7/7 [==============================] - 0s 10ms/step - loss: 0.1020 - accuracy: 0.9849 - val_loss: 0.0497 - val_accuracy: 0.9708\n",
            "Epoch 50/50\n",
            "7/7 [==============================] - 0s 11ms/step - loss: 0.1034 - accuracy: 0.9849 - val_loss: 0.0551 - val_accuracy: 0.9708\n"
          ]
        }
      ]
    },
    {
      "cell_type": "code",
      "source": [
        "plt.plot(history.history['accuracy'])\n",
        "plt.plot(history.history['val_accuracy'])\n",
        "plt.legend(['Accuracy', 'Val_accuracy'])\n",
        "\n",
        "plt.show()\n",
        "\n",
        "plt.plot(history.history['loss'])\n",
        "plt.plot(history.history['val_loss'])\n",
        "plt.legend(['Loss', 'Val_loss'])\n",
        "\n",
        "plt.show()\n",
        "\n",
        "print('---> Model Valuation <---')\n",
        "\n",
        "model.evaluate(x_test_standard, y_test)"
      ],
      "metadata": {
        "colab": {
          "base_uri": "https://localhost:8080/",
          "height": 567
        },
        "id": "ZOUZVNBtYxNR",
        "outputId": "8fe1b199-24f9-44d8-aab4-023d9595374f"
      },
      "execution_count": null,
      "outputs": [
        {
          "output_type": "display_data",
          "data": {
            "image/png": "[encoded data removed]",
            "text/plain": [
              "<Figure size 432x288 with 1 Axes>"
            ]
          },
          "metadata": {
            "needs_background": "light"
          }
        },
        {
          "output_type": "display_data",
          "data": {
            "image/png": "[encoded data removed]",
            "text/plain": [
              "<Figure size 432x288 with 1 Axes>"
            ]
          },
          "metadata": {
            "needs_background": "light"
          }
        },
        {
          "output_type": "stream",
          "name": "stdout",
          "text": [
            "---> Model Valuation <---\n",
            "6/6 [==============================] - 0s 5ms/step - loss: 0.0551 - accuracy: 0.9708\n"
          ]
        },
        {
          "output_type": "execute_result",
          "data": {
            "text/plain": [
              "[0.05509992688894272, 0.9707602262496948]"
            ]
          },
          "metadata": {},
          "execution_count": 197
        }
      ]
    },
    {
      "cell_type": "markdown",
      "source": [
        "Let's try to drop some columns in base of importance found before.\n",
        "\n",
        "I decided to try to drop all columns with importance minor or equal to 0.01."
      ],
      "metadata": {
        "id": "-Qh0gkqhswmL"
      }
    },
    {
      "cell_type": "code",
      "source": [
        "data_01 = data.copy()\n",
        "\n",
        "data_01 = data_01.drop(columns=[\n",
        "                                  'radius_mean', \n",
        "                                  'area_mean', \n",
        "                                  'smoothness_mean', \n",
        "                                  'symmetry_mean', \n",
        "                                  'fractal_dimension_mean',\n",
        "                                  'texture_se',\n",
        "                                  'perimeter_se',\n",
        "                                  'compactness_se',\n",
        "                                  'concavity_se',\n",
        "                                  'area_worst',\n",
        "                                  'smoothness_worst',\n",
        "                                  'concave points_worst',\n",
        "                                  'concave points_mean',\n",
        "                                  'radius_se',\n",
        "                                  'area_se',\n",
        "                                  'smoothness_se',\n",
        "                                  'concave points_se',\n",
        "                                  'symmetry_se',\n",
        "                                  'symmetry_worst'])\n",
        "\n",
        "data_01.info()"
      ],
      "metadata": {
        "colab": {
          "base_uri": "https://localhost:8080/"
        },
        "id": "p2BoSjV7B52r",
        "outputId": "c86d83ef-167b-47d6-efba-6648c206cc95"
      },
      "execution_count": null,
      "outputs": [
        {
          "output_type": "stream",
          "name": "stdout",
          "text": [
            "<class 'pandas.core.frame.DataFrame'>\n",
            "RangeIndex: 569 entries, 0 to 568\n",
            "Data columns (total 12 columns):\n",
            " #   Column                   Non-Null Count  Dtype  \n",
            "---  ------                   --------------  -----  \n",
            " 0   diagnosis                569 non-null    float64\n",
            " 1   texture_mean             569 non-null    float64\n",
            " 2   perimeter_mean           569 non-null    float64\n",
            " 3   compactness_mean         569 non-null    float64\n",
            " 4   concavity_mean           569 non-null    float64\n",
            " 5   fractal_dimension_se     569 non-null    float64\n",
            " 6   radius_worst             569 non-null    float64\n",
            " 7   texture_worst            569 non-null    float64\n",
            " 8   perimeter_worst          569 non-null    float64\n",
            " 9   compactness_worst        569 non-null    float64\n",
            " 10  concavity_worst          569 non-null    float64\n",
            " 11  fractal_dimension_worst  569 non-null    float64\n",
            "dtypes: float64(12)\n",
            "memory usage: 53.5 KB\n"
          ]
        }
      ]
    },
    {
      "cell_type": "code",
      "source": [
        "df_01 = data_01.values\n",
        "\n",
        "x_01 = df_01[:,1:]\n",
        "y_01 = df_01[:,:1]\n",
        "\n",
        "x_train_01, x_test_01, y_train_01, y_test_01 = train_test_split(x_01, y_01, test_size=0.3, random_state=7)\n",
        "\n",
        "scaler = StandardScaler()\n",
        "\n",
        "x_train_01 = scaler.fit_transform(x_train_01)\n",
        "x_test_01 = scaler.fit_transform(x_test_01)"
      ],
      "metadata": {
        "id": "HeDNxfxbDJpm"
      },
      "execution_count": null,
      "outputs": []
    },
    {
      "cell_type": "code",
      "source": [
        "model_01 = my_model((11,1))\n",
        "\n",
        "model_01.compile(\n",
        "    loss='binary_crossentropy',\n",
        "    optimizer='adam', \n",
        "    metrics='accuracy'\n",
        "    )\n",
        "\n",
        "model_01.summary()"
      ],
      "metadata": {
        "colab": {
          "base_uri": "https://localhost:8080/"
        },
        "id": "xdfTqF-jEla_",
        "outputId": "f3b4ae87-b2fc-4967-b623-4300f7898a1b"
      },
      "execution_count": null,
      "outputs": [
        {
          "output_type": "stream",
          "name": "stdout",
          "text": [
            "Model: \"sequential_13\"\n",
            "_________________________________________________________________\n",
            " Layer (type)                Output Shape              Param #   \n",
            "=================================================================\n",
            " conv1d_26 (Conv1D)          (None, 9, 32)             128       \n",
            "                                                                 \n",
            " conv1d_27 (Conv1D)          (None, 7, 64)             6208      \n",
            "                                                                 \n",
            " flatten_13 (Flatten)        (None, 448)               0         \n",
            "                                                                 \n",
            " dense_52 (Dense)            (None, 128)               57472     \n",
            "                                                                 \n",
            " dense_53 (Dense)            (None, 256)               33024     \n",
            "                                                                 \n",
            " dense_54 (Dense)            (None, 512)               131584    \n",
            "                                                                 \n",
            " dense_55 (Dense)            (None, 1)                 513       \n",
            "                                                                 \n",
            "=================================================================\n",
            "Total params: 228,929\n",
            "Trainable params: 228,929\n",
            "Non-trainable params: 0\n",
            "_________________________________________________________________\n"
          ]
        }
      ]
    },
    {
      "cell_type": "code",
      "source": [
        "history_01 = model_01.fit(\n",
        "    x_train_01, \n",
        "    y_train_01, \n",
        "    batch_size=64, \n",
        "    epochs=50,\n",
        "    validation_data=(x_test_01, y_test_01)\n",
        "    )"
      ],
      "metadata": {
        "colab": {
          "base_uri": "https://localhost:8080/"
        },
        "id": "kGJ8wpQaEqZg",
        "outputId": "4342c2e8-dc7c-43da-f5b9-0d966b755767"
      },
      "execution_count": null,
      "outputs": [
        {
          "output_type": "stream",
          "name": "stdout",
          "text": [
            "Epoch 1/50\n",
            "7/7 [==============================] - 1s 48ms/step - loss: 2.2272 - accuracy: 0.3945 - val_loss: 1.2749 - val_accuracy: 0.3509\n",
            "Epoch 2/50\n",
            "7/7 [==============================] - 0s 12ms/step - loss: 0.5983 - accuracy: 0.7136 - val_loss: 0.5037 - val_accuracy: 0.8772\n",
            "Epoch 3/50\n",
            "7/7 [==============================] - 0s 12ms/step - loss: 0.2795 - accuracy: 0.9397 - val_loss: 0.4263 - val_accuracy: 0.9357\n",
            "Epoch 4/50\n",
            "7/7 [==============================] - 0s 13ms/step - loss: 0.3616 - accuracy: 0.9623 - val_loss: 0.3900 - val_accuracy: 0.9532\n",
            "Epoch 5/50\n",
            "7/7 [==============================] - 0s 10ms/step - loss: 0.3796 - accuracy: 0.9648 - val_loss: 0.3823 - val_accuracy: 0.9591\n",
            "Epoch 6/50\n",
            "7/7 [==============================] - 0s 12ms/step - loss: 0.3762 - accuracy: 0.9648 - val_loss: 0.2295 - val_accuracy: 0.9649\n",
            "Epoch 7/50\n",
            "7/7 [==============================] - 0s 10ms/step - loss: 0.3455 - accuracy: 0.9623 - val_loss: 0.2253 - val_accuracy: 0.9591\n",
            "Epoch 8/50\n",
            "7/7 [==============================] - 0s 11ms/step - loss: 0.3406 - accuracy: 0.9623 - val_loss: 0.1636 - val_accuracy: 0.9591\n",
            "Epoch 9/50\n",
            "7/7 [==============================] - 0s 10ms/step - loss: 0.3065 - accuracy: 0.9623 - val_loss: 0.1654 - val_accuracy: 0.9591\n",
            "Epoch 10/50\n",
            "7/7 [==============================] - 0s 10ms/step - loss: 0.2687 - accuracy: 0.9673 - val_loss: 0.1729 - val_accuracy: 0.9532\n",
            "Epoch 11/50\n",
            "7/7 [==============================] - 0s 10ms/step - loss: 0.2109 - accuracy: 0.9673 - val_loss: 0.2018 - val_accuracy: 0.9357\n",
            "Epoch 12/50\n",
            "7/7 [==============================] - 0s 11ms/step - loss: 0.3823 - accuracy: 0.9447 - val_loss: 0.8862 - val_accuracy: 0.8713\n",
            "Epoch 13/50\n",
            "7/7 [==============================] - 0s 10ms/step - loss: 0.8221 - accuracy: 0.8869 - val_loss: 0.9087 - val_accuracy: 0.8655\n",
            "Epoch 14/50\n",
            "7/7 [==============================] - 0s 10ms/step - loss: 0.6035 - accuracy: 0.9146 - val_loss: 0.3678 - val_accuracy: 0.9240\n",
            "Epoch 15/50\n",
            "7/7 [==============================] - 0s 12ms/step - loss: 0.3293 - accuracy: 0.9397 - val_loss: 0.3873 - val_accuracy: 0.9181\n",
            "Epoch 16/50\n",
            "7/7 [==============================] - 0s 11ms/step - loss: 0.5502 - accuracy: 0.9246 - val_loss: 0.5520 - val_accuracy: 0.9064\n",
            "Epoch 17/50\n",
            "7/7 [==============================] - 0s 12ms/step - loss: 0.3636 - accuracy: 0.9221 - val_loss: 0.3312 - val_accuracy: 0.9064\n",
            "Epoch 18/50\n",
            "7/7 [==============================] - 0s 10ms/step - loss: 0.2025 - accuracy: 0.9497 - val_loss: 0.3055 - val_accuracy: 0.8947\n",
            "Epoch 19/50\n",
            "7/7 [==============================] - 0s 12ms/step - loss: 0.2009 - accuracy: 0.9497 - val_loss: 0.2495 - val_accuracy: 0.9181\n",
            "Epoch 20/50\n",
            "7/7 [==============================] - 0s 14ms/step - loss: 0.2071 - accuracy: 0.9573 - val_loss: 0.1996 - val_accuracy: 0.9474\n",
            "Epoch 21/50\n",
            "7/7 [==============================] - 0s 10ms/step - loss: 0.1958 - accuracy: 0.9523 - val_loss: 0.1806 - val_accuracy: 0.9591\n",
            "Epoch 22/50\n",
            "7/7 [==============================] - 0s 11ms/step - loss: 0.1591 - accuracy: 0.9548 - val_loss: 0.1710 - val_accuracy: 0.9649\n",
            "Epoch 23/50\n",
            "7/7 [==============================] - 0s 11ms/step - loss: 0.1452 - accuracy: 0.9648 - val_loss: 0.1675 - val_accuracy: 0.9532\n",
            "Epoch 24/50\n",
            "7/7 [==============================] - 0s 12ms/step - loss: 0.1438 - accuracy: 0.9673 - val_loss: 0.1643 - val_accuracy: 0.9532\n",
            "Epoch 25/50\n",
            "7/7 [==============================] - 0s 12ms/step - loss: 0.1419 - accuracy: 0.9648 - val_loss: 0.1596 - val_accuracy: 0.9532\n",
            "Epoch 26/50\n",
            "7/7 [==============================] - 0s 10ms/step - loss: 0.1400 - accuracy: 0.9648 - val_loss: 0.1545 - val_accuracy: 0.9532\n",
            "Epoch 27/50\n",
            "7/7 [==============================] - 0s 10ms/step - loss: 0.1387 - accuracy: 0.9648 - val_loss: 0.1537 - val_accuracy: 0.9532\n",
            "Epoch 28/50\n",
            "7/7 [==============================] - 0s 10ms/step - loss: 0.1378 - accuracy: 0.9648 - val_loss: 0.1537 - val_accuracy: 0.9532\n",
            "Epoch 29/50\n",
            "7/7 [==============================] - 0s 11ms/step - loss: 0.1362 - accuracy: 0.9648 - val_loss: 0.1540 - val_accuracy: 0.9532\n",
            "Epoch 30/50\n",
            "7/7 [==============================] - 0s 12ms/step - loss: 0.1353 - accuracy: 0.9648 - val_loss: 0.1554 - val_accuracy: 0.9532\n",
            "Epoch 31/50\n",
            "7/7 [==============================] - 0s 10ms/step - loss: 0.1343 - accuracy: 0.9698 - val_loss: 0.1574 - val_accuracy: 0.9532\n",
            "Epoch 32/50\n",
            "7/7 [==============================] - 0s 12ms/step - loss: 0.1336 - accuracy: 0.9698 - val_loss: 0.1579 - val_accuracy: 0.9532\n",
            "Epoch 33/50\n",
            "7/7 [==============================] - 0s 12ms/step - loss: 0.1329 - accuracy: 0.9698 - val_loss: 0.1599 - val_accuracy: 0.9474\n",
            "Epoch 34/50\n",
            "7/7 [==============================] - 0s 10ms/step - loss: 0.1319 - accuracy: 0.9698 - val_loss: 0.1630 - val_accuracy: 0.9532\n",
            "Epoch 35/50\n",
            "7/7 [==============================] - 0s 11ms/step - loss: 0.1314 - accuracy: 0.9698 - val_loss: 0.2298 - val_accuracy: 0.9474\n",
            "Epoch 36/50\n",
            "7/7 [==============================] - 0s 10ms/step - loss: 0.1308 - accuracy: 0.9698 - val_loss: 0.2292 - val_accuracy: 0.9474\n",
            "Epoch 37/50\n",
            "7/7 [==============================] - 0s 10ms/step - loss: 0.1306 - accuracy: 0.9698 - val_loss: 0.2301 - val_accuracy: 0.9532\n",
            "Epoch 38/50\n",
            "7/7 [==============================] - 0s 11ms/step - loss: 0.1300 - accuracy: 0.9698 - val_loss: 0.2293 - val_accuracy: 0.9474\n",
            "Epoch 39/50\n",
            "7/7 [==============================] - 0s 13ms/step - loss: 0.1293 - accuracy: 0.9673 - val_loss: 0.2286 - val_accuracy: 0.9474\n",
            "Epoch 40/50\n",
            "7/7 [==============================] - 0s 10ms/step - loss: 0.1288 - accuracy: 0.9673 - val_loss: 0.2290 - val_accuracy: 0.9474\n",
            "Epoch 41/50\n",
            "7/7 [==============================] - 0s 10ms/step - loss: 0.1288 - accuracy: 0.9673 - val_loss: 0.2273 - val_accuracy: 0.9532\n",
            "Epoch 42/50\n",
            "7/7 [==============================] - 0s 10ms/step - loss: 0.1281 - accuracy: 0.9698 - val_loss: 0.2285 - val_accuracy: 0.9532\n",
            "Epoch 43/50\n",
            "7/7 [==============================] - 0s 11ms/step - loss: 0.1272 - accuracy: 0.9698 - val_loss: 0.2288 - val_accuracy: 0.9474\n",
            "Epoch 44/50\n",
            "7/7 [==============================] - 0s 12ms/step - loss: 0.1266 - accuracy: 0.9698 - val_loss: 0.2279 - val_accuracy: 0.9532\n",
            "Epoch 45/50\n",
            "7/7 [==============================] - 0s 10ms/step - loss: 0.1263 - accuracy: 0.9698 - val_loss: 0.2284 - val_accuracy: 0.9532\n",
            "Epoch 46/50\n",
            "7/7 [==============================] - 0s 11ms/step - loss: 0.1262 - accuracy: 0.9698 - val_loss: 0.2292 - val_accuracy: 0.9474\n",
            "Epoch 47/50\n",
            "7/7 [==============================] - 0s 12ms/step - loss: 0.1257 - accuracy: 0.9724 - val_loss: 0.2278 - val_accuracy: 0.9532\n",
            "Epoch 48/50\n",
            "7/7 [==============================] - 0s 12ms/step - loss: 0.1260 - accuracy: 0.9698 - val_loss: 0.2258 - val_accuracy: 0.9532\n",
            "Epoch 49/50\n",
            "7/7 [==============================] - 0s 10ms/step - loss: 0.1258 - accuracy: 0.9698 - val_loss: 0.2275 - val_accuracy: 0.9532\n",
            "Epoch 50/50\n",
            "7/7 [==============================] - 0s 10ms/step - loss: 0.1246 - accuracy: 0.9724 - val_loss: 0.2255 - val_accuracy: 0.9532\n"
          ]
        }
      ]
    },
    {
      "cell_type": "code",
      "source": [
        "model_01.evaluate(x_test_01, y_test_01)"
      ],
      "metadata": {
        "colab": {
          "base_uri": "https://localhost:8080/"
        },
        "id": "THr2mIAMHaOn",
        "outputId": "afd119b3-31ed-48d9-c29c-a7d5e87d204d"
      },
      "execution_count": null,
      "outputs": [
        {
          "output_type": "stream",
          "name": "stdout",
          "text": [
            "6/6 [==============================] - 0s 4ms/step - loss: 0.2255 - accuracy: 0.9532\n"
          ]
        },
        {
          "output_type": "execute_result",
          "data": {
            "text/plain": [
              "[0.22546152770519257, 0.9532163739204407]"
            ]
          },
          "metadata": {},
          "execution_count": 202
        }
      ]
    },
    {
      "cell_type": "markdown",
      "source": [
        "Let's try to drop features with importance minor or equal to 0.00."
      ],
      "metadata": {
        "id": "COXCJdEQd-xu"
      }
    },
    {
      "cell_type": "code",
      "source": [
        "data_0 = data.copy()\n",
        "\n",
        "data_0 = data_0.drop(columns=[\n",
        "                                  'concave points_mean',\n",
        "                                  'radius_se',\n",
        "                                  'area_se',\n",
        "                                  'smoothness_se',\n",
        "                                  'concave points_se',\n",
        "                                  'symmetry_se',\n",
        "                                  'symmetry_worst'])\n",
        "\n",
        "data_0.info()"
      ],
      "metadata": {
        "colab": {
          "base_uri": "https://localhost:8080/"
        },
        "id": "G_pcmSPLHgbo",
        "outputId": "fcdc774a-3934-4727-b774-ef08d2e23e3b"
      },
      "execution_count": null,
      "outputs": [
        {
          "output_type": "stream",
          "name": "stdout",
          "text": [
            "<class 'pandas.core.frame.DataFrame'>\n",
            "RangeIndex: 569 entries, 0 to 568\n",
            "Data columns (total 24 columns):\n",
            " #   Column                   Non-Null Count  Dtype  \n",
            "---  ------                   --------------  -----  \n",
            " 0   diagnosis                569 non-null    float64\n",
            " 1   radius_mean              569 non-null    float64\n",
            " 2   texture_mean             569 non-null    float64\n",
            " 3   perimeter_mean           569 non-null    float64\n",
            " 4   area_mean                569 non-null    float64\n",
            " 5   smoothness_mean          569 non-null    float64\n",
            " 6   compactness_mean         569 non-null    float64\n",
            " 7   concavity_mean           569 non-null    float64\n",
            " 8   symmetry_mean            569 non-null    float64\n",
            " 9   fractal_dimension_mean   569 non-null    float64\n",
            " 10  texture_se               569 non-null    float64\n",
            " 11  perimeter_se             569 non-null    float64\n",
            " 12  compactness_se           569 non-null    float64\n",
            " 13  concavity_se             569 non-null    float64\n",
            " 14  fractal_dimension_se     569 non-null    float64\n",
            " 15  radius_worst             569 non-null    float64\n",
            " 16  texture_worst            569 non-null    float64\n",
            " 17  perimeter_worst          569 non-null    float64\n",
            " 18  area_worst               569 non-null    float64\n",
            " 19  smoothness_worst         569 non-null    float64\n",
            " 20  compactness_worst        569 non-null    float64\n",
            " 21  concavity_worst          569 non-null    float64\n",
            " 22  concave points_worst     569 non-null    float64\n",
            " 23  fractal_dimension_worst  569 non-null    float64\n",
            "dtypes: float64(24)\n",
            "memory usage: 106.8 KB\n"
          ]
        }
      ]
    },
    {
      "cell_type": "code",
      "source": [
        "df_0 = data_0.values\n",
        "\n",
        "x_0 = df_0[:,1:]\n",
        "y_0 = df_0[:,:1]\n",
        "\n",
        "x_train_0, x_test_0, y_train_0, y_test_0 = train_test_split(x_0, y_0, test_size=0.3, random_state=7)\n",
        "\n",
        "scaler = StandardScaler()\n",
        "\n",
        "x_train_0 = scaler.fit_transform(x_train_0)\n",
        "x_test_0 = scaler.fit_transform(x_test_0)"
      ],
      "metadata": {
        "id": "-KNdEM9FHwxd"
      },
      "execution_count": null,
      "outputs": []
    },
    {
      "cell_type": "code",
      "source": [
        "model_0 = my_model((23,1))\n",
        "\n",
        "model_0.compile(\n",
        "    loss='binary_crossentropy',\n",
        "    optimizer='adam', \n",
        "    metrics='accuracy'\n",
        "    )\n",
        "\n",
        "model_0.summary()"
      ],
      "metadata": {
        "colab": {
          "base_uri": "https://localhost:8080/"
        },
        "id": "wrVLyu_LH-sn",
        "outputId": "5aeabc8a-6da0-4d10-e010-169275a5bc1e"
      },
      "execution_count": null,
      "outputs": [
        {
          "output_type": "stream",
          "name": "stdout",
          "text": [
            "Model: \"sequential_14\"\n",
            "_________________________________________________________________\n",
            " Layer (type)                Output Shape              Param #   \n",
            "=================================================================\n",
            " conv1d_28 (Conv1D)          (None, 21, 32)            128       \n",
            "                                                                 \n",
            " conv1d_29 (Conv1D)          (None, 19, 64)            6208      \n",
            "                                                                 \n",
            " flatten_14 (Flatten)        (None, 1216)              0         \n",
            "                                                                 \n",
            " dense_56 (Dense)            (None, 128)               155776    \n",
            "                                                                 \n",
            " dense_57 (Dense)            (None, 256)               33024     \n",
            "                                                                 \n",
            " dense_58 (Dense)            (None, 512)               131584    \n",
            "                                                                 \n",
            " dense_59 (Dense)            (None, 1)                 513       \n",
            "                                                                 \n",
            "=================================================================\n",
            "Total params: 327,233\n",
            "Trainable params: 327,233\n",
            "Non-trainable params: 0\n",
            "_________________________________________________________________\n"
          ]
        }
      ]
    },
    {
      "cell_type": "code",
      "source": [
        "history_0 = model_0.fit(\n",
        "    x_train_0, \n",
        "    y_train_0, \n",
        "    batch_size=64, \n",
        "    epochs=50,\n",
        "    validation_data=(x_test_0, y_test_0)\n",
        "    )"
      ],
      "metadata": {
        "colab": {
          "base_uri": "https://localhost:8080/"
        },
        "id": "8yIqcbg5IIAy",
        "outputId": "f45043bb-afdd-4335-fc9f-bc329dee4b5a"
      },
      "execution_count": null,
      "outputs": [
        {
          "output_type": "stream",
          "name": "stdout",
          "text": [
            "Epoch 1/50\n",
            "7/7 [==============================] - 1s 49ms/step - loss: 3.0867 - accuracy: 0.3945 - val_loss: 0.9939 - val_accuracy: 0.4620\n",
            "Epoch 2/50\n",
            "7/7 [==============================] - 0s 12ms/step - loss: 0.4377 - accuracy: 0.8266 - val_loss: 0.5441 - val_accuracy: 0.9298\n",
            "Epoch 3/50\n",
            "7/7 [==============================] - 0s 10ms/step - loss: 0.3999 - accuracy: 0.9472 - val_loss: 0.3334 - val_accuracy: 0.9708\n",
            "Epoch 4/50\n",
            "7/7 [==============================] - 0s 10ms/step - loss: 0.4919 - accuracy: 0.9548 - val_loss: 0.3757 - val_accuracy: 0.9649\n",
            "Epoch 5/50\n",
            "7/7 [==============================] - 0s 11ms/step - loss: 0.3860 - accuracy: 0.9523 - val_loss: 0.3846 - val_accuracy: 0.9708\n",
            "Epoch 6/50\n",
            "7/7 [==============================] - 0s 12ms/step - loss: 0.1969 - accuracy: 0.9648 - val_loss: 0.3990 - val_accuracy: 0.9532\n",
            "Epoch 7/50\n",
            "7/7 [==============================] - 0s 10ms/step - loss: 0.1826 - accuracy: 0.9724 - val_loss: 0.2496 - val_accuracy: 0.9415\n",
            "Epoch 8/50\n",
            "7/7 [==============================] - 0s 10ms/step - loss: 0.1495 - accuracy: 0.9774 - val_loss: 0.2469 - val_accuracy: 0.9474\n",
            "Epoch 9/50\n",
            "7/7 [==============================] - 0s 12ms/step - loss: 0.1446 - accuracy: 0.9774 - val_loss: 0.3136 - val_accuracy: 0.9532\n",
            "Epoch 10/50\n",
            "7/7 [==============================] - 0s 10ms/step - loss: 0.1396 - accuracy: 0.9799 - val_loss: 0.3063 - val_accuracy: 0.9649\n",
            "Epoch 11/50\n",
            "7/7 [==============================] - 0s 11ms/step - loss: 0.1364 - accuracy: 0.9799 - val_loss: 0.3027 - val_accuracy: 0.9591\n",
            "Epoch 12/50\n",
            "7/7 [==============================] - 0s 12ms/step - loss: 0.1363 - accuracy: 0.9849 - val_loss: 0.2301 - val_accuracy: 0.9591\n",
            "Epoch 13/50\n",
            "7/7 [==============================] - 0s 12ms/step - loss: 0.1354 - accuracy: 0.9824 - val_loss: 0.2326 - val_accuracy: 0.9591\n",
            "Epoch 14/50\n",
            "7/7 [==============================] - 0s 11ms/step - loss: 0.1370 - accuracy: 0.9824 - val_loss: 0.2535 - val_accuracy: 0.9532\n",
            "Epoch 15/50\n",
            "7/7 [==============================] - 0s 12ms/step - loss: 0.1342 - accuracy: 0.9849 - val_loss: 0.3038 - val_accuracy: 0.9591\n",
            "Epoch 16/50\n",
            "7/7 [==============================] - 0s 10ms/step - loss: 0.1343 - accuracy: 0.9799 - val_loss: 0.3018 - val_accuracy: 0.9649\n",
            "Epoch 17/50\n",
            "7/7 [==============================] - 0s 10ms/step - loss: 0.1322 - accuracy: 0.9824 - val_loss: 0.3027 - val_accuracy: 0.9591\n",
            "Epoch 18/50\n",
            "7/7 [==============================] - 0s 10ms/step - loss: 0.1313 - accuracy: 0.9849 - val_loss: 0.3057 - val_accuracy: 0.9591\n",
            "Epoch 19/50\n",
            "7/7 [==============================] - 0s 12ms/step - loss: 0.1305 - accuracy: 0.9849 - val_loss: 0.2371 - val_accuracy: 0.9591\n",
            "Epoch 20/50\n",
            "7/7 [==============================] - 0s 11ms/step - loss: 0.1301 - accuracy: 0.9824 - val_loss: 0.2994 - val_accuracy: 0.9591\n",
            "Epoch 21/50\n",
            "7/7 [==============================] - 0s 11ms/step - loss: 0.1288 - accuracy: 0.9824 - val_loss: 0.2965 - val_accuracy: 0.9591\n",
            "Epoch 22/50\n",
            "7/7 [==============================] - 0s 10ms/step - loss: 0.1276 - accuracy: 0.9874 - val_loss: 0.3076 - val_accuracy: 0.9591\n",
            "Epoch 23/50\n",
            "7/7 [==============================] - 0s 12ms/step - loss: 0.1275 - accuracy: 0.9899 - val_loss: 0.3147 - val_accuracy: 0.9532\n",
            "Epoch 24/50\n",
            "7/7 [==============================] - 0s 10ms/step - loss: 0.1264 - accuracy: 0.9899 - val_loss: 0.2441 - val_accuracy: 0.9591\n",
            "Epoch 25/50\n",
            "7/7 [==============================] - 0s 12ms/step - loss: 0.1256 - accuracy: 0.9874 - val_loss: 0.2392 - val_accuracy: 0.9591\n",
            "Epoch 26/50\n",
            "7/7 [==============================] - 0s 11ms/step - loss: 0.1252 - accuracy: 0.9874 - val_loss: 0.3030 - val_accuracy: 0.9591\n",
            "Epoch 27/50\n",
            "7/7 [==============================] - 0s 12ms/step - loss: 0.1246 - accuracy: 0.9874 - val_loss: 0.2479 - val_accuracy: 0.9532\n",
            "Epoch 28/50\n",
            "7/7 [==============================] - 0s 11ms/step - loss: 0.1239 - accuracy: 0.9899 - val_loss: 0.2430 - val_accuracy: 0.9532\n",
            "Epoch 29/50\n",
            "7/7 [==============================] - 0s 10ms/step - loss: 0.1229 - accuracy: 0.9874 - val_loss: 0.3099 - val_accuracy: 0.9532\n",
            "Epoch 30/50\n",
            "7/7 [==============================] - 0s 11ms/step - loss: 0.1234 - accuracy: 0.9899 - val_loss: 0.3045 - val_accuracy: 0.9591\n",
            "Epoch 31/50\n",
            "7/7 [==============================] - 0s 10ms/step - loss: 0.1228 - accuracy: 0.9899 - val_loss: 0.3173 - val_accuracy: 0.9474\n",
            "Epoch 32/50\n",
            "7/7 [==============================] - 0s 11ms/step - loss: 0.1216 - accuracy: 0.9899 - val_loss: 0.2418 - val_accuracy: 0.9474\n",
            "Epoch 33/50\n",
            "7/7 [==============================] - 0s 10ms/step - loss: 0.1216 - accuracy: 0.9899 - val_loss: 0.2372 - val_accuracy: 0.9532\n",
            "Epoch 34/50\n",
            "7/7 [==============================] - 0s 12ms/step - loss: 0.1217 - accuracy: 0.9874 - val_loss: 0.2293 - val_accuracy: 0.9591\n",
            "Epoch 35/50\n",
            "7/7 [==============================] - 0s 12ms/step - loss: 0.1204 - accuracy: 0.9899 - val_loss: 0.2383 - val_accuracy: 0.9532\n",
            "Epoch 36/50\n",
            "7/7 [==============================] - 0s 10ms/step - loss: 0.1208 - accuracy: 0.9925 - val_loss: 0.2428 - val_accuracy: 0.9474\n",
            "Epoch 37/50\n",
            "7/7 [==============================] - 0s 12ms/step - loss: 0.1221 - accuracy: 0.9899 - val_loss: 0.3364 - val_accuracy: 0.9474\n",
            "Epoch 38/50\n",
            "7/7 [==============================] - 0s 11ms/step - loss: 0.1238 - accuracy: 0.9874 - val_loss: 0.3456 - val_accuracy: 0.9532\n",
            "Epoch 39/50\n",
            "7/7 [==============================] - 0s 12ms/step - loss: 0.1235 - accuracy: 0.9899 - val_loss: 0.3146 - val_accuracy: 0.9649\n",
            "Epoch 40/50\n",
            "7/7 [==============================] - 0s 14ms/step - loss: 0.1221 - accuracy: 0.9899 - val_loss: 0.3105 - val_accuracy: 0.9591\n",
            "Epoch 41/50\n",
            "7/7 [==============================] - 0s 10ms/step - loss: 0.1198 - accuracy: 0.9925 - val_loss: 0.2650 - val_accuracy: 0.9474\n",
            "Epoch 42/50\n",
            "7/7 [==============================] - 0s 10ms/step - loss: 0.1179 - accuracy: 0.9925 - val_loss: 0.2533 - val_accuracy: 0.9474\n",
            "Epoch 43/50\n",
            "7/7 [==============================] - 0s 12ms/step - loss: 0.1197 - accuracy: 0.9899 - val_loss: 0.2397 - val_accuracy: 0.9532\n",
            "Epoch 44/50\n",
            "7/7 [==============================] - 0s 10ms/step - loss: 0.1182 - accuracy: 0.9925 - val_loss: 0.2545 - val_accuracy: 0.9474\n",
            "Epoch 45/50\n",
            "7/7 [==============================] - 0s 10ms/step - loss: 0.1178 - accuracy: 0.9925 - val_loss: 0.3541 - val_accuracy: 0.9474\n",
            "Epoch 46/50\n",
            "7/7 [==============================] - 0s 10ms/step - loss: 0.1170 - accuracy: 0.9925 - val_loss: 0.2349 - val_accuracy: 0.9591\n",
            "Epoch 47/50\n",
            "7/7 [==============================] - 0s 10ms/step - loss: 0.1171 - accuracy: 0.9925 - val_loss: 0.2576 - val_accuracy: 0.9591\n",
            "Epoch 48/50\n",
            "7/7 [==============================] - 0s 12ms/step - loss: 0.1166 - accuracy: 0.9925 - val_loss: 0.2457 - val_accuracy: 0.9532\n",
            "Epoch 49/50\n",
            "7/7 [==============================] - 0s 12ms/step - loss: 0.1170 - accuracy: 0.9925 - val_loss: 0.4762 - val_accuracy: 0.9532\n",
            "Epoch 50/50\n",
            "7/7 [==============================] - 0s 11ms/step - loss: 0.1171 - accuracy: 0.9925 - val_loss: 0.3029 - val_accuracy: 0.9591\n"
          ]
        }
      ]
    },
    {
      "cell_type": "code",
      "source": [
        "model_0.evaluate(x_test_0, y_test_0)"
      ],
      "metadata": {
        "colab": {
          "base_uri": "https://localhost:8080/"
        },
        "id": "o9t8xj9FIcgW",
        "outputId": "738cfa73-ca0b-4c98-ce68-57b90a9300d3"
      },
      "execution_count": null,
      "outputs": [
        {
          "output_type": "stream",
          "name": "stdout",
          "text": [
            "6/6 [==============================] - 0s 4ms/step - loss: 0.3029 - accuracy: 0.9591\n"
          ]
        },
        {
          "output_type": "execute_result",
          "data": {
            "text/plain": [
              "[0.30294269323349, 0.9590643048286438]"
            ]
          },
          "metadata": {},
          "execution_count": 207
        }
      ]
    },
    {
      "cell_type": "code",
      "source": [
        "print('Evaluation of one model with different features \\n')\n",
        "\n",
        "print('Full Features (30): \\n', model.evaluate(x_test_standard, y_test), '\\n')\n",
        "\n",
        "print('\\nCutting 19 Features: \\n', model_01.evaluate(x_test_01, y_test_01), '\\n')\n",
        "\n",
        "print('\\nCutting 7 Features: \\n', model_0.evaluate(x_test_0, y_test_0), '\\n')"
      ],
      "metadata": {
        "colab": {
          "base_uri": "https://localhost:8080/"
        },
        "id": "zooobg_iIgNY",
        "outputId": "738040c9-91ec-4744-ba60-5fc22c6de1c2"
      },
      "execution_count": null,
      "outputs": [
        {
          "output_type": "stream",
          "name": "stdout",
          "text": [
            "Evaluation of one model with different features \n",
            "\n",
            "6/6 [==============================] - 0s 4ms/step - loss: 0.0551 - accuracy: 0.9708\n",
            "Full Features (30): \n",
            " [0.05509992688894272, 0.9707602262496948] \n",
            "\n",
            "6/6 [==============================] - 0s 4ms/step - loss: 0.2255 - accuracy: 0.9532\n",
            "\n",
            "Cutting 19 Features: \n",
            " [0.22546152770519257, 0.9532163739204407] \n",
            "\n",
            "6/6 [==============================] - 0s 4ms/step - loss: 0.3029 - accuracy: 0.9591\n",
            "\n",
            "Cutting 7 Features: \n",
            " [0.30294269323349, 0.9590643048286438] \n",
            "\n"
          ]
        }
      ]
    },
    {
      "cell_type": "code",
      "source": [
        "plt.figure(figsize=(25,16))\n",
        "\n",
        "plt.plot(history.history['accuracy'])\n",
        "plt.plot(history.history['val_accuracy'])\n",
        "plt.plot(history_01.history['accuracy'])\n",
        "plt.plot(history_01.history['val_accuracy'])\n",
        "plt.plot(history_0.history['accuracy'])\n",
        "plt.plot(history_0.history['val_accuracy'])\n",
        "\n",
        "plt.legend(['Accuracy 30 Features', 'Val_accuracy 30 Features', 'Accuracy 11 Features', 'Val_accuracy 11 Features', 'Accuracy 23 Features', 'Val_accuracy 23 Features'])\n",
        "\n",
        "plt.show()"
      ],
      "metadata": {
        "colab": {
          "base_uri": "https://localhost:8080/",
          "height": 699
        },
        "id": "N3jqhyW-CoSB",
        "outputId": "4899d43a-41d3-41b9-ea80-604a2efbeff7"
      },
      "execution_count": null,
      "outputs": [
        {
          "output_type": "display_data",
          "data": {
            "image/png": "[encoded data removed]",
            "text/plain": [
              "<Figure size 1800x1152 with 1 Axes>"
            ]
          },
          "metadata": {
            "needs_background": "light"
          }
        }
      ]
    },
    {
      "cell_type": "markdown",
      "source": [
        "##Conclusions\n",
        "\n",
        "This dataset contains some information, but we can't call it \"big data\". With theese informations I found that the better option is to use a CNN model to find best percentage of success.\n",
        "\n",
        "The random forest model is fast, and accurate, but not as the CNN one. \n",
        "\n",
        "Dropping some features the results are a little bit different, some percentage points, not so big change, but we can see that every single feature can help to train the best model possible."
      ],
      "metadata": {
        "id": "SkFdVc59eaUJ"
      }
    }
  ]
}